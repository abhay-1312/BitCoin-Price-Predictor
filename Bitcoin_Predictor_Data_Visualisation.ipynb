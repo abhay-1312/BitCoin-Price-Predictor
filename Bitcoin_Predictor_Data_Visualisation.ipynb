{
  "nbformat": 4,
  "nbformat_minor": 0,
  "metadata": {
    "colab": {
      "name": "Bitcoin_Predictor_Data_Visualisation.ipynb",
      "provenance": [],
      "include_colab_link": true
    },
    "kernelspec": {
      "name": "python3",
      "display_name": "Python 3"
    }
  },
  "cells": [
    {
      "cell_type": "markdown",
      "metadata": {
        "id": "view-in-github",
        "colab_type": "text"
      },
      "source": [
        "<a href=\"https://colab.research.google.com/github/dragon222001/BitCoin-Price-Predictor/blob/master/Bitcoin_Predictor_Data_Visualisation.ipynb\" target=\"_parent\"><img src=\"https://colab.research.google.com/assets/colab-badge.svg\" alt=\"Open In Colab\"/></a>"
      ]
    },
    {
      "cell_type": "markdown",
      "metadata": {
        "id": "TaqCh0Oey66Q"
      },
      "source": [
        "**Visualising the Data**\n",
        "\n"
      ]
    },
    {
      "cell_type": "markdown",
      "metadata": {
        "id": "GMj5BFEe0Gyu"
      },
      "source": [
        "Importing the required Libraries"
      ]
    },
    {
      "cell_type": "code",
      "metadata": {
        "id": "upcyJxSgzWoZ"
      },
      "source": [
        "#Importing the Libraries\n",
        "import pandas as pd\n",
        "import numpy as np\n",
        "import matplotlib.pyplot as plt\n",
        "import seaborn as sns"
      ],
      "execution_count": 1,
      "outputs": []
    },
    {
      "cell_type": "markdown",
      "metadata": {
        "id": "zdrFuSYf0KYz"
      },
      "source": [
        "Accessing the Dataset"
      ]
    },
    {
      "cell_type": "code",
      "metadata": {
        "id": "IK8N4u6U0OSb"
      },
      "source": [
        "dataset = pd.read_csv('https://firebasestorage.googleapis.com/v0/b/aarambh-aider.appspot.com/o/images%2Fbitcoin.csv?alt=media')"
      ],
      "execution_count": 2,
      "outputs": []
    },
    {
      "cell_type": "markdown",
      "metadata": {
        "id": "cRbgOsJz7CMw"
      },
      "source": [
        "Checking for null values"
      ]
    },
    {
      "cell_type": "code",
      "metadata": {
        "id": "9kakPJDs7FVD",
        "outputId": "7b1aa954-2b7b-45de-b6e1-270ad709463d",
        "colab": {
          "base_uri": "https://localhost:8080/"
        }
      },
      "source": [
        "print(dataset.info())"
      ],
      "execution_count": 3,
      "outputs": [
        {
          "output_type": "stream",
          "text": [
            "<class 'pandas.core.frame.DataFrame'>\n",
            "RangeIndex: 627190 entries, 0 to 627189\n",
            "Data columns (total 14 columns):\n",
            " #   Column        Non-Null Count   Dtype  \n",
            "---  ------        --------------   -----  \n",
            " 0   date_id       627190 non-null  object \n",
            " 1   datetime_id   627190 non-null  object \n",
            " 2   market        627190 non-null  object \n",
            " 3   rpt_key       627190 non-null  object \n",
            " 4   last          627190 non-null  float64\n",
            " 5   diff_24h      627190 non-null  float64\n",
            " 6   diff_per_24h  627190 non-null  float64\n",
            " 7   bid           627190 non-null  float64\n",
            " 8   ask           627190 non-null  float64\n",
            " 9   low           627190 non-null  float64\n",
            " 10  high          627190 non-null  float64\n",
            " 11  volume        627190 non-null  float64\n",
            " 12  created_at    627190 non-null  object \n",
            " 13  updated_at    627190 non-null  object \n",
            "dtypes: float64(8), object(6)\n",
            "memory usage: 67.0+ MB\n",
            "None\n"
          ],
          "name": "stdout"
        }
      ]
    },
    {
      "cell_type": "markdown",
      "metadata": {
        "id": "SKiIqp74QJ4u"
      },
      "source": [
        "For the first Graph, making a seperate dataset to enhance the clearity."
      ]
    },
    {
      "cell_type": "code",
      "metadata": {
        "id": "3Afm9JfVPf2O"
      },
      "source": [
        "data_sorted = pd.DataFrame({'Dates':dataset['date_id'].unique(),'Average':dataset[dataset['rpt_key'].isin(['btc_usd'])]['high'].groupby(dataset['date_id']).mean()})"
      ],
      "execution_count": 4,
      "outputs": []
    },
    {
      "cell_type": "code",
      "metadata": {
        "id": "28GnJtWgZNFk",
        "outputId": "024f8478-6e69-425d-a2ab-073184bf65c8",
        "colab": {
          "base_uri": "https://localhost:8080/"
        }
      },
      "source": [
        "data_sorted.info()"
      ],
      "execution_count": 5,
      "outputs": [
        {
          "output_type": "stream",
          "text": [
            "<class 'pandas.core.frame.DataFrame'>\n",
            "Index: 34 entries, 2017-05-31 to 2017-07-14\n",
            "Data columns (total 2 columns):\n",
            " #   Column   Non-Null Count  Dtype  \n",
            "---  ------   --------------  -----  \n",
            " 0   Dates    34 non-null     object \n",
            " 1   Average  34 non-null     float64\n",
            "dtypes: float64(1), object(1)\n",
            "memory usage: 816.0+ bytes\n"
          ],
          "name": "stdout"
        }
      ]
    },
    {
      "cell_type": "markdown",
      "metadata": {
        "id": "TaSZfJOFzFOe"
      },
      "source": [
        "(1) Bitcoin High Prices variation along date and time"
      ]
    },
    {
      "cell_type": "markdown",
      "metadata": {
        "id": "661EBCvmoOZg"
      },
      "source": [
        "I calculated the position of the months and alloted them there."
      ]
    },
    {
      "cell_type": "code",
      "metadata": {
        "id": "aqmUvGiexrYV",
        "outputId": "3b95f052-851c-4b0b-ca37-95ec0558dcaf",
        "colab": {
          "base_uri": "https://localhost:8080/",
          "height": 295
        }
      },
      "source": [
        "tic_x = [10,21]\n",
        "tic_y = [2300,2400,2500,2600,2700,2800,2900,3000,3100]\n",
        "label_x=['June 2017','July 2017']\n",
        "label_y=['2.3k','2.4k','2.5k','2.6k','2.7k','2.8k','2.9k','3.0k','3.1k']\n",
        "plt.plot(data_sorted['Dates'],data_sorted['Average'])\n",
        "plt.xticks(ticks=tic_x, labels=label_x)\n",
        "plt.yticks(ticks=tic_y,labels=label_y)\n",
        "plt.xlabel('Months')\n",
        "plt.ylabel('Average High Value(in USD)')\n",
        "plt.title('Bitcoin High Price Average v/s Dates')\n",
        "plt.show()"
      ],
      "execution_count": 6,
      "outputs": [
        {
          "output_type": "display_data",
          "data": {
            "image/png": "[encoded data removed]",
            "text/plain": [
              "<Figure size 432x288 with 1 Axes>"
            ]
          },
          "metadata": {
            "tags": [],
            "needs_background": "light"
          }
        }
      ]
    },
    {
      "cell_type": "markdown",
      "metadata": {
        "id": "cBsC7ezwQeg1"
      },
      "source": [
        "(2) Top 20 Volatile days"
      ]
    },
    {
      "cell_type": "code",
      "metadata": {
        "id": "gI33mBWKq-fY",
        "outputId": "f6afb52c-923b-46d8-9897-829c7409b10e",
        "colab": {
          "base_uri": "https://localhost:8080/",
          "height": 359
        }
      },
      "source": [
        "data = dataset[dataset['market'] == \"bitstamp\"]\n",
        "data = data[data[\"rpt_key\"] == \"btc_usd\"]\n",
        "data = data[[\"date_id\", \"last\"]]\n",
        "data.head(10)"
      ],
      "execution_count": 7,
      "outputs": [
        {
          "output_type": "execute_result",
          "data": {
            "text/html": [
              "<div>\n",
              "<style scoped>\n",
              "    .dataframe tbody tr th:only-of-type {\n",
              "        vertical-align: middle;\n",
              "    }\n",
              "\n",
              "    .dataframe tbody tr th {\n",
              "        vertical-align: top;\n",
              "    }\n",
              "\n",
              "    .dataframe thead th {\n",
              "        text-align: right;\n",
              "    }\n",
              "</style>\n",
              "<table border=\"1\" class=\"dataframe\">\n",
              "  <thead>\n",
              "    <tr style=\"text-align: right;\">\n",
              "      <th></th>\n",
              "      <th>date_id</th>\n",
              "      <th>last</th>\n",
              "    </tr>\n",
              "  </thead>\n",
              "  <tbody>\n",
              "    <tr>\n",
              "      <th>3</th>\n",
              "      <td>2017-05-31</td>\n",
              "      <td>2237.40</td>\n",
              "    </tr>\n",
              "    <tr>\n",
              "      <th>15</th>\n",
              "      <td>2017-06-01</td>\n",
              "      <td>2248.39</td>\n",
              "    </tr>\n",
              "    <tr>\n",
              "      <th>23</th>\n",
              "      <td>2017-06-01</td>\n",
              "      <td>2248.35</td>\n",
              "    </tr>\n",
              "    <tr>\n",
              "      <th>33</th>\n",
              "      <td>2017-06-01</td>\n",
              "      <td>2250.00</td>\n",
              "    </tr>\n",
              "    <tr>\n",
              "      <th>43</th>\n",
              "      <td>2017-06-01</td>\n",
              "      <td>2253.78</td>\n",
              "    </tr>\n",
              "    <tr>\n",
              "      <th>53</th>\n",
              "      <td>2017-06-01</td>\n",
              "      <td>2257.39</td>\n",
              "    </tr>\n",
              "    <tr>\n",
              "      <th>63</th>\n",
              "      <td>2017-06-01</td>\n",
              "      <td>2255.70</td>\n",
              "    </tr>\n",
              "    <tr>\n",
              "      <th>73</th>\n",
              "      <td>2017-06-01</td>\n",
              "      <td>2258.00</td>\n",
              "    </tr>\n",
              "    <tr>\n",
              "      <th>83</th>\n",
              "      <td>2017-06-01</td>\n",
              "      <td>2255.33</td>\n",
              "    </tr>\n",
              "    <tr>\n",
              "      <th>93</th>\n",
              "      <td>2017-06-01</td>\n",
              "      <td>2257.74</td>\n",
              "    </tr>\n",
              "  </tbody>\n",
              "</table>\n",
              "</div>"
            ],
            "text/plain": [
              "       date_id     last\n",
              "3   2017-05-31  2237.40\n",
              "15  2017-06-01  2248.39\n",
              "23  2017-06-01  2248.35\n",
              "33  2017-06-01  2250.00\n",
              "43  2017-06-01  2253.78\n",
              "53  2017-06-01  2257.39\n",
              "63  2017-06-01  2255.70\n",
              "73  2017-06-01  2258.00\n",
              "83  2017-06-01  2255.33\n",
              "93  2017-06-01  2257.74"
            ]
          },
          "metadata": {
            "tags": []
          },
          "execution_count": 7
        }
      ]
    },
    {
      "cell_type": "code",
      "metadata": {
        "id": "8EL4dQEnrY4Y",
        "outputId": "fca312c0-cc6b-448c-f728-fab850102a7a",
        "colab": {
          "base_uri": "https://localhost:8080/",
          "height": 700
        }
      },
      "source": [
        "data1 = pd.DataFrame({'date': data['date_id'].unique(), 'high': data['last'].groupby(data['date_id']).max(), 'low': data['last'].groupby(data['date_id']).min()})\n",
        "data1.head(20)"
      ],
      "execution_count": 8,
      "outputs": [
        {
          "output_type": "execute_result",
          "data": {
            "text/html": [
              "<div>\n",
              "<style scoped>\n",
              "    .dataframe tbody tr th:only-of-type {\n",
              "        vertical-align: middle;\n",
              "    }\n",
              "\n",
              "    .dataframe tbody tr th {\n",
              "        vertical-align: top;\n",
              "    }\n",
              "\n",
              "    .dataframe thead th {\n",
              "        text-align: right;\n",
              "    }\n",
              "</style>\n",
              "<table border=\"1\" class=\"dataframe\">\n",
              "  <thead>\n",
              "    <tr style=\"text-align: right;\">\n",
              "      <th></th>\n",
              "      <th>date</th>\n",
              "      <th>high</th>\n",
              "      <th>low</th>\n",
              "    </tr>\n",
              "    <tr>\n",
              "      <th>date_id</th>\n",
              "      <th></th>\n",
              "      <th></th>\n",
              "      <th></th>\n",
              "    </tr>\n",
              "  </thead>\n",
              "  <tbody>\n",
              "    <tr>\n",
              "      <th>2017-05-31</th>\n",
              "      <td>2017-05-31</td>\n",
              "      <td>2237.40</td>\n",
              "      <td>2237.40</td>\n",
              "    </tr>\n",
              "    <tr>\n",
              "      <th>2017-06-01</th>\n",
              "      <td>2017-06-01</td>\n",
              "      <td>2455.39</td>\n",
              "      <td>2248.35</td>\n",
              "    </tr>\n",
              "    <tr>\n",
              "      <th>2017-06-02</th>\n",
              "      <td>2017-06-02</td>\n",
              "      <td>2449.54</td>\n",
              "      <td>2321.08</td>\n",
              "    </tr>\n",
              "    <tr>\n",
              "      <th>2017-06-03</th>\n",
              "      <td>2017-06-03</td>\n",
              "      <td>2541.50</td>\n",
              "      <td>2401.55</td>\n",
              "    </tr>\n",
              "    <tr>\n",
              "      <th>2017-06-04</th>\n",
              "      <td>2017-06-04</td>\n",
              "      <td>2583.31</td>\n",
              "      <td>2480.07</td>\n",
              "    </tr>\n",
              "    <tr>\n",
              "      <th>2017-06-05</th>\n",
              "      <td>2017-06-05</td>\n",
              "      <td>2612.27</td>\n",
              "      <td>2469.79</td>\n",
              "    </tr>\n",
              "    <tr>\n",
              "      <th>2017-06-06</th>\n",
              "      <td>2017-06-06</td>\n",
              "      <td>2932.00</td>\n",
              "      <td>2608.40</td>\n",
              "    </tr>\n",
              "    <tr>\n",
              "      <th>2017-06-07</th>\n",
              "      <td>2017-06-07</td>\n",
              "      <td>2892.01</td>\n",
              "      <td>2701.77</td>\n",
              "    </tr>\n",
              "    <tr>\n",
              "      <th>2017-06-08</th>\n",
              "      <td>2017-06-08</td>\n",
              "      <td>2831.27</td>\n",
              "      <td>2623.33</td>\n",
              "    </tr>\n",
              "    <tr>\n",
              "      <th>2017-06-09</th>\n",
              "      <td>2017-06-09</td>\n",
              "      <td>2868.23</td>\n",
              "      <td>2702.00</td>\n",
              "    </tr>\n",
              "    <tr>\n",
              "      <th>2017-06-10</th>\n",
              "      <td>2017-06-10</td>\n",
              "      <td>2911.21</td>\n",
              "      <td>2797.66</td>\n",
              "    </tr>\n",
              "    <tr>\n",
              "      <th>2017-06-11</th>\n",
              "      <td>2017-06-11</td>\n",
              "      <td>2906.71</td>\n",
              "      <td>2803.93</td>\n",
              "    </tr>\n",
              "    <tr>\n",
              "      <th>2017-06-12</th>\n",
              "      <td>2017-06-12</td>\n",
              "      <td>2980.00</td>\n",
              "      <td>2703.11</td>\n",
              "    </tr>\n",
              "    <tr>\n",
              "      <th>2017-06-13</th>\n",
              "      <td>2017-06-13</td>\n",
              "      <td>2783.00</td>\n",
              "      <td>2498.98</td>\n",
              "    </tr>\n",
              "    <tr>\n",
              "      <th>2017-06-14</th>\n",
              "      <td>2017-06-14</td>\n",
              "      <td>2749.00</td>\n",
              "      <td>2697.67</td>\n",
              "    </tr>\n",
              "    <tr>\n",
              "      <th>2017-06-18</th>\n",
              "      <td>2017-06-18</td>\n",
              "      <td>2613.50</td>\n",
              "      <td>2485.00</td>\n",
              "    </tr>\n",
              "    <tr>\n",
              "      <th>2017-06-27</th>\n",
              "      <td>2017-06-27</td>\n",
              "      <td>2457.00</td>\n",
              "      <td>2307.01</td>\n",
              "    </tr>\n",
              "    <tr>\n",
              "      <th>2017-06-28</th>\n",
              "      <td>2017-06-28</td>\n",
              "      <td>2569.99</td>\n",
              "      <td>2291.00</td>\n",
              "    </tr>\n",
              "    <tr>\n",
              "      <th>2017-06-29</th>\n",
              "      <td>2017-06-29</td>\n",
              "      <td>2593.00</td>\n",
              "      <td>2509.00</td>\n",
              "    </tr>\n",
              "    <tr>\n",
              "      <th>2017-06-30</th>\n",
              "      <td>2017-06-30</td>\n",
              "      <td>2594.78</td>\n",
              "      <td>2505.01</td>\n",
              "    </tr>\n",
              "  </tbody>\n",
              "</table>\n",
              "</div>"
            ],
            "text/plain": [
              "                  date     high      low\n",
              "date_id                                 \n",
              "2017-05-31  2017-05-31  2237.40  2237.40\n",
              "2017-06-01  2017-06-01  2455.39  2248.35\n",
              "2017-06-02  2017-06-02  2449.54  2321.08\n",
              "2017-06-03  2017-06-03  2541.50  2401.55\n",
              "2017-06-04  2017-06-04  2583.31  2480.07\n",
              "2017-06-05  2017-06-05  2612.27  2469.79\n",
              "2017-06-06  2017-06-06  2932.00  2608.40\n",
              "2017-06-07  2017-06-07  2892.01  2701.77\n",
              "2017-06-08  2017-06-08  2831.27  2623.33\n",
              "2017-06-09  2017-06-09  2868.23  2702.00\n",
              "2017-06-10  2017-06-10  2911.21  2797.66\n",
              "2017-06-11  2017-06-11  2906.71  2803.93\n",
              "2017-06-12  2017-06-12  2980.00  2703.11\n",
              "2017-06-13  2017-06-13  2783.00  2498.98\n",
              "2017-06-14  2017-06-14  2749.00  2697.67\n",
              "2017-06-18  2017-06-18  2613.50  2485.00\n",
              "2017-06-27  2017-06-27  2457.00  2307.01\n",
              "2017-06-28  2017-06-28  2569.99  2291.00\n",
              "2017-06-29  2017-06-29  2593.00  2509.00\n",
              "2017-06-30  2017-06-30  2594.78  2505.01"
            ]
          },
          "metadata": {
            "tags": []
          },
          "execution_count": 8
        }
      ]
    },
    {
      "cell_type": "code",
      "metadata": {
        "id": "jasBzQj6BzLC"
      },
      "source": [
        "data1['change']=100*(data1['high']-data1['low'])/data1['low']"
      ],
      "execution_count": 9,
      "outputs": []
    },
    {
      "cell_type": "code",
      "metadata": {
        "id": "Sn_hySj3CFl_",
        "outputId": "1a523e06-5371-4e9b-c706-7c69ae27a6bf",
        "colab": {
          "base_uri": "https://localhost:8080/",
          "height": 235
        }
      },
      "source": [
        "data1.head()"
      ],
      "execution_count": 10,
      "outputs": [
        {
          "output_type": "execute_result",
          "data": {
            "text/html": [
              "<div>\n",
              "<style scoped>\n",
              "    .dataframe tbody tr th:only-of-type {\n",
              "        vertical-align: middle;\n",
              "    }\n",
              "\n",
              "    .dataframe tbody tr th {\n",
              "        vertical-align: top;\n",
              "    }\n",
              "\n",
              "    .dataframe thead th {\n",
              "        text-align: right;\n",
              "    }\n",
              "</style>\n",
              "<table border=\"1\" class=\"dataframe\">\n",
              "  <thead>\n",
              "    <tr style=\"text-align: right;\">\n",
              "      <th></th>\n",
              "      <th>date</th>\n",
              "      <th>high</th>\n",
              "      <th>low</th>\n",
              "      <th>change</th>\n",
              "    </tr>\n",
              "    <tr>\n",
              "      <th>date_id</th>\n",
              "      <th></th>\n",
              "      <th></th>\n",
              "      <th></th>\n",
              "      <th></th>\n",
              "    </tr>\n",
              "  </thead>\n",
              "  <tbody>\n",
              "    <tr>\n",
              "      <th>2017-05-31</th>\n",
              "      <td>2017-05-31</td>\n",
              "      <td>2237.40</td>\n",
              "      <td>2237.40</td>\n",
              "      <td>0.000000</td>\n",
              "    </tr>\n",
              "    <tr>\n",
              "      <th>2017-06-01</th>\n",
              "      <td>2017-06-01</td>\n",
              "      <td>2455.39</td>\n",
              "      <td>2248.35</td>\n",
              "      <td>9.208531</td>\n",
              "    </tr>\n",
              "    <tr>\n",
              "      <th>2017-06-02</th>\n",
              "      <td>2017-06-02</td>\n",
              "      <td>2449.54</td>\n",
              "      <td>2321.08</td>\n",
              "      <td>5.534493</td>\n",
              "    </tr>\n",
              "    <tr>\n",
              "      <th>2017-06-03</th>\n",
              "      <td>2017-06-03</td>\n",
              "      <td>2541.50</td>\n",
              "      <td>2401.55</td>\n",
              "      <td>5.827486</td>\n",
              "    </tr>\n",
              "    <tr>\n",
              "      <th>2017-06-04</th>\n",
              "      <td>2017-06-04</td>\n",
              "      <td>2583.31</td>\n",
              "      <td>2480.07</td>\n",
              "      <td>4.162786</td>\n",
              "    </tr>\n",
              "  </tbody>\n",
              "</table>\n",
              "</div>"
            ],
            "text/plain": [
              "                  date     high      low    change\n",
              "date_id                                           \n",
              "2017-05-31  2017-05-31  2237.40  2237.40  0.000000\n",
              "2017-06-01  2017-06-01  2455.39  2248.35  9.208531\n",
              "2017-06-02  2017-06-02  2449.54  2321.08  5.534493\n",
              "2017-06-03  2017-06-03  2541.50  2401.55  5.827486\n",
              "2017-06-04  2017-06-04  2583.31  2480.07  4.162786"
            ]
          },
          "metadata": {
            "tags": []
          },
          "execution_count": 10
        }
      ]
    },
    {
      "cell_type": "code",
      "metadata": {
        "id": "KROru0BjsCGk",
        "outputId": "e628d725-8d70-45c7-dd26-e40178af4ece",
        "colab": {
          "base_uri": "https://localhost:8080/",
          "height": 265
        }
      },
      "source": [
        "plt.plot(data1[\"date\"], data1[\"change\"])\n",
        "plt.show()"
      ],
      "execution_count": 11,
      "outputs": [
        {
          "output_type": "display_data",
          "data": {
            "image/png": "[encoded data removed]",
            "text/plain": [
              "<Figure size 432x288 with 1 Axes>"
            ]
          },
          "metadata": {
            "tags": [],
            "needs_background": "light"
          }
        }
      ]
    },
    {
      "cell_type": "code",
      "metadata": {
        "id": "8bnJfmvUsBrx"
      },
      "source": [
        "top_change=data1.nlargest(5, ['change'])"
      ],
      "execution_count": 12,
      "outputs": []
    },
    {
      "cell_type": "code",
      "metadata": {
        "id": "xqKi-ck3C1ja",
        "outputId": "815ca3f5-18ce-4626-8c6a-3d57b3e7f2e1",
        "colab": {
          "base_uri": "https://localhost:8080/",
          "height": 235
        }
      },
      "source": [
        "top_change"
      ],
      "execution_count": 13,
      "outputs": [
        {
          "output_type": "execute_result",
          "data": {
            "text/html": [
              "<div>\n",
              "<style scoped>\n",
              "    .dataframe tbody tr th:only-of-type {\n",
              "        vertical-align: middle;\n",
              "    }\n",
              "\n",
              "    .dataframe tbody tr th {\n",
              "        vertical-align: top;\n",
              "    }\n",
              "\n",
              "    .dataframe thead th {\n",
              "        text-align: right;\n",
              "    }\n",
              "</style>\n",
              "<table border=\"1\" class=\"dataframe\">\n",
              "  <thead>\n",
              "    <tr style=\"text-align: right;\">\n",
              "      <th></th>\n",
              "      <th>date</th>\n",
              "      <th>high</th>\n",
              "      <th>low</th>\n",
              "      <th>change</th>\n",
              "    </tr>\n",
              "    <tr>\n",
              "      <th>date_id</th>\n",
              "      <th></th>\n",
              "      <th></th>\n",
              "      <th></th>\n",
              "      <th></th>\n",
              "    </tr>\n",
              "  </thead>\n",
              "  <tbody>\n",
              "    <tr>\n",
              "      <th>2017-06-06</th>\n",
              "      <td>2017-06-06</td>\n",
              "      <td>2932.00</td>\n",
              "      <td>2608.40</td>\n",
              "      <td>12.406073</td>\n",
              "    </tr>\n",
              "    <tr>\n",
              "      <th>2017-06-28</th>\n",
              "      <td>2017-06-28</td>\n",
              "      <td>2569.99</td>\n",
              "      <td>2291.00</td>\n",
              "      <td>12.177652</td>\n",
              "    </tr>\n",
              "    <tr>\n",
              "      <th>2017-06-13</th>\n",
              "      <td>2017-06-13</td>\n",
              "      <td>2783.00</td>\n",
              "      <td>2498.98</td>\n",
              "      <td>11.365437</td>\n",
              "    </tr>\n",
              "    <tr>\n",
              "      <th>2017-06-12</th>\n",
              "      <td>2017-06-12</td>\n",
              "      <td>2980.00</td>\n",
              "      <td>2703.11</td>\n",
              "      <td>10.243386</td>\n",
              "    </tr>\n",
              "    <tr>\n",
              "      <th>2017-06-01</th>\n",
              "      <td>2017-06-01</td>\n",
              "      <td>2455.39</td>\n",
              "      <td>2248.35</td>\n",
              "      <td>9.208531</td>\n",
              "    </tr>\n",
              "  </tbody>\n",
              "</table>\n",
              "</div>"
            ],
            "text/plain": [
              "                  date     high      low     change\n",
              "date_id                                            \n",
              "2017-06-06  2017-06-06  2932.00  2608.40  12.406073\n",
              "2017-06-28  2017-06-28  2569.99  2291.00  12.177652\n",
              "2017-06-13  2017-06-13  2783.00  2498.98  11.365437\n",
              "2017-06-12  2017-06-12  2980.00  2703.11  10.243386\n",
              "2017-06-01  2017-06-01  2455.39  2248.35   9.208531"
            ]
          },
          "metadata": {
            "tags": []
          },
          "execution_count": 13
        }
      ]
    },
    {
      "cell_type": "code",
      "metadata": {
        "id": "h5ukanZACwv_",
        "outputId": "e9ffe7a1-fb20-43b7-d84f-eb391c998d0a",
        "colab": {
          "base_uri": "https://localhost:8080/",
          "height": 295
        }
      },
      "source": [
        "tic_y=[0,2,4,6,8,10,12]\n",
        "label_y=['0%','2%','4%','6%','8%','10%','12%']\n",
        "plt.bar(top_change['date'],top_change['change'])\n",
        "plt.xlabel('Dates')\n",
        "plt.ylabel('Change(%)')\n",
        "plt.yticks(tic_y,label_y)\n",
        "plt.title('Most Volatile Days in terms of change in values')\n",
        "plt.show()"
      ],
      "execution_count": 15,
      "outputs": [
        {
          "output_type": "display_data",
          "data": {
            "image/png": "[encoded data removed]",
            "text/plain": [
              "<Figure size 432x288 with 1 Axes>"
            ]
          },
          "metadata": {
            "tags": [],
            "needs_background": "light"
          }
        }
      ]
    },
    {
      "cell_type": "markdown",
      "metadata": {
        "id": "BiTBESflr7a5"
      },
      "source": [
        ""
      ]
    }
  ]
}