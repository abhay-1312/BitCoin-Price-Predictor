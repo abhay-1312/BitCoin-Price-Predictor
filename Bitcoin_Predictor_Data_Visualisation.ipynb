{
  "nbformat": 4,
  "nbformat_minor": 0,
  "metadata": {
    "colab": {
      "name": "Bitcoin_Predictor_Data_Visualisation.ipynb",
      "provenance": [],
      "include_colab_link": true
    },
    "kernelspec": {
      "name": "python3",
      "display_name": "Python 3"
    }
  },
  "cells": [
    {
      "cell_type": "markdown",
      "metadata": {
        "id": "view-in-github",
        "colab_type": "text"
      },
      "source": [
        "<a href=\"https://colab.research.google.com/github/dragon222001/BitCoin-Price-Predictor/blob/master/Bitcoin_Predictor_Data_Visualisation.ipynb\" target=\"_parent\"><img src=\"https://colab.research.google.com/assets/colab-badge.svg\" alt=\"Open In Colab\"/></a>"
      ]
    },
    {
      "cell_type": "markdown",
      "metadata": {
        "id": "TaqCh0Oey66Q"
      },
      "source": [
        "**Visualising the Data**\n",
        "\n"
      ]
    },
    {
      "cell_type": "markdown",
      "metadata": {
        "id": "GMj5BFEe0Gyu"
      },
      "source": [
        "Importing the required Libraries"
      ]
    },
    {
      "cell_type": "code",
      "metadata": {
        "id": "upcyJxSgzWoZ"
      },
      "source": [
        "#Importing the Libraries\n",
        "import pandas as pd\n",
        "import numpy as np\n",
        "import matplotlib.pyplot as plt\n",
        "import seaborn as sns"
      ],
      "execution_count": 1,
      "outputs": []
    },
    {
      "cell_type": "markdown",
      "metadata": {
        "id": "zdrFuSYf0KYz"
      },
      "source": [
        "Accessing the Dataset"
      ]
    },
    {
      "cell_type": "code",
      "metadata": {
        "id": "IK8N4u6U0OSb"
      },
      "source": [
        "dataset = pd.read_csv('https://firebasestorage.googleapis.com/v0/b/aarambh-aider.appspot.com/o/images%2Fbitcoin.csv?alt=media')"
      ],
      "execution_count": 2,
      "outputs": []
    },
    {
      "cell_type": "markdown",
      "metadata": {
        "id": "cRbgOsJz7CMw"
      },
      "source": [
        "Checking for null values"
      ]
    },
    {
      "cell_type": "code",
      "metadata": {
        "id": "9kakPJDs7FVD",
        "outputId": "e4046b4c-1d59-4c09-bb4b-ed0cfd5d865e",
        "colab": {
          "base_uri": "https://localhost:8080/",
          "height": 391
        }
      },
      "source": [
        "print(dataset.info())"
      ],
      "execution_count": 3,
      "outputs": [
        {
          "output_type": "stream",
          "text": [
            "<class 'pandas.core.frame.DataFrame'>\n",
            "RangeIndex: 627190 entries, 0 to 627189\n",
            "Data columns (total 14 columns):\n",
            " #   Column        Non-Null Count   Dtype  \n",
            "---  ------        --------------   -----  \n",
            " 0   date_id       627190 non-null  object \n",
            " 1   datetime_id   627190 non-null  object \n",
            " 2   market        627190 non-null  object \n",
            " 3   rpt_key       627190 non-null  object \n",
            " 4   last          627190 non-null  float64\n",
            " 5   diff_24h      627190 non-null  float64\n",
            " 6   diff_per_24h  627190 non-null  float64\n",
            " 7   bid           627190 non-null  float64\n",
            " 8   ask           627190 non-null  float64\n",
            " 9   low           627190 non-null  float64\n",
            " 10  high          627190 non-null  float64\n",
            " 11  volume        627190 non-null  float64\n",
            " 12  created_at    627190 non-null  object \n",
            " 13  updated_at    627190 non-null  object \n",
            "dtypes: float64(8), object(6)\n",
            "memory usage: 67.0+ MB\n",
            "None\n"
          ],
          "name": "stdout"
        }
      ]
    },
    {
      "cell_type": "markdown",
      "metadata": {
        "id": "SKiIqp74QJ4u"
      },
      "source": [
        "For the first Graph, making a seperate dataset to enhance the clearity."
      ]
    },
    {
      "cell_type": "code",
      "metadata": {
        "id": "3Afm9JfVPf2O"
      },
      "source": [
        "data_sorted = pd.DataFrame({'Dates':dataset['date_id'].unique(),'Average':dataset[dataset['rpt_key'].isin(['btc_usd'])]['high'].groupby(dataset['date_id']).mean()})"
      ],
      "execution_count": 4,
      "outputs": []
    },
    {
      "cell_type": "code",
      "metadata": {
        "id": "28GnJtWgZNFk",
        "outputId": "9945a0fb-f54b-419b-8f7f-ca1f86475ec3",
        "colab": {
          "base_uri": "https://localhost:8080/",
          "height": 170
        }
      },
      "source": [
        "data_sorted.info()"
      ],
      "execution_count": 5,
      "outputs": [
        {
          "output_type": "stream",
          "text": [
            "<class 'pandas.core.frame.DataFrame'>\n",
            "Index: 34 entries, 2017-05-31 to 2017-07-14\n",
            "Data columns (total 2 columns):\n",
            " #   Column   Non-Null Count  Dtype  \n",
            "---  ------   --------------  -----  \n",
            " 0   Dates    34 non-null     object \n",
            " 1   Average  34 non-null     float64\n",
            "dtypes: float64(1), object(1)\n",
            "memory usage: 816.0+ bytes\n"
          ],
          "name": "stdout"
        }
      ]
    },
    {
      "cell_type": "markdown",
      "metadata": {
        "id": "TaSZfJOFzFOe"
      },
      "source": [
        "(1) Bitcoin High Prices variation along date and time"
      ]
    },
    {
      "cell_type": "markdown",
      "metadata": {
        "id": "661EBCvmoOZg"
      },
      "source": [
        "I calculated the position of the months and alloted them there."
      ]
    },
    {
      "cell_type": "code",
      "metadata": {
        "id": "aqmUvGiexrYV",
        "outputId": "ad3d31b7-e447-4b79-f584-c52aabba6540",
        "colab": {
          "base_uri": "https://localhost:8080/",
          "height": 295
        }
      },
      "source": [
        "tic_x = [10,21]\n",
        "tic_y = [2300,2400,2500,2600,2700,2800,2900,3000,3100]\n",
        "label_x=['June 2017','July 2017']\n",
        "label_y=['2.3k','2.4k','2.5k','2.6k','2.7k','2.8k','2.9k','3.0k','3.1k']\n",
        "plt.plot(data_sorted['Dates'],data_sorted['Average'])\n",
        "plt.xticks(ticks=tic_x, labels=label_x)\n",
        "plt.yticks(ticks=tic_y,labels=label_y)\n",
        "plt.xlabel('Months')\n",
        "plt.ylabel('Average High Value(in USD)')\n",
        "plt.title('Bitcoin High Price Average v/s Dates')\n",
        "plt.show()"
      ],
      "execution_count": 6,
      "outputs": [
        {
          "output_type": "display_data",
          "data": {
            "image/png": "[encoded data removed]",
            "text/plain": [
              "<Figure size 432x288 with 1 Axes>"
            ]
          },
          "metadata": {
            "tags": [],
            "needs_background": "light"
          }
        }
      ]
    },
    {
      "cell_type": "markdown",
      "metadata": {
        "id": "cBsC7ezwQeg1"
      },
      "source": [
        "(2) Top 5 Volatile days"
      ]
    },
    {
      "cell_type": "code",
      "metadata": {
        "id": "gI33mBWKq-fY",
        "outputId": "aa89cfea-b1ac-4a97-ad7f-27c85b098fdd",
        "colab": {
          "base_uri": "https://localhost:8080/",
          "height": 359
        }
      },
      "source": [
        "data = dataset[dataset['market'] == \"bitstamp\"]\n",
        "data = data[data[\"rpt_key\"] == \"btc_usd\"]\n",
        "data = data[[\"date_id\", \"last\"]]\n",
        "data.head(10)"
      ],
      "execution_count": 40,
      "outputs": [
        {
          "output_type": "execute_result",
          "data": {
            "text/html": [
              "<div>\n",
              "<style scoped>\n",
              "    .dataframe tbody tr th:only-of-type {\n",
              "        vertical-align: middle;\n",
              "    }\n",
              "\n",
              "    .dataframe tbody tr th {\n",
              "        vertical-align: top;\n",
              "    }\n",
              "\n",
              "    .dataframe thead th {\n",
              "        text-align: right;\n",
              "    }\n",
              "</style>\n",
              "<table border=\"1\" class=\"dataframe\">\n",
              "  <thead>\n",
              "    <tr style=\"text-align: right;\">\n",
              "      <th></th>\n",
              "      <th>date_id</th>\n",
              "      <th>last</th>\n",
              "    </tr>\n",
              "  </thead>\n",
              "  <tbody>\n",
              "    <tr>\n",
              "      <th>3</th>\n",
              "      <td>2017-05-31</td>\n",
              "      <td>2237.40</td>\n",
              "    </tr>\n",
              "    <tr>\n",
              "      <th>15</th>\n",
              "      <td>2017-06-01</td>\n",
              "      <td>2248.39</td>\n",
              "    </tr>\n",
              "    <tr>\n",
              "      <th>23</th>\n",
              "      <td>2017-06-01</td>\n",
              "      <td>2248.35</td>\n",
              "    </tr>\n",
              "    <tr>\n",
              "      <th>33</th>\n",
              "      <td>2017-06-01</td>\n",
              "      <td>2250.00</td>\n",
              "    </tr>\n",
              "    <tr>\n",
              "      <th>43</th>\n",
              "      <td>2017-06-01</td>\n",
              "      <td>2253.78</td>\n",
              "    </tr>\n",
              "    <tr>\n",
              "      <th>53</th>\n",
              "      <td>2017-06-01</td>\n",
              "      <td>2257.39</td>\n",
              "    </tr>\n",
              "    <tr>\n",
              "      <th>63</th>\n",
              "      <td>2017-06-01</td>\n",
              "      <td>2255.70</td>\n",
              "    </tr>\n",
              "    <tr>\n",
              "      <th>73</th>\n",
              "      <td>2017-06-01</td>\n",
              "      <td>2258.00</td>\n",
              "    </tr>\n",
              "    <tr>\n",
              "      <th>83</th>\n",
              "      <td>2017-06-01</td>\n",
              "      <td>2255.33</td>\n",
              "    </tr>\n",
              "    <tr>\n",
              "      <th>93</th>\n",
              "      <td>2017-06-01</td>\n",
              "      <td>2257.74</td>\n",
              "    </tr>\n",
              "  </tbody>\n",
              "</table>\n",
              "</div>"
            ],
            "text/plain": [
              "       date_id     last\n",
              "3   2017-05-31  2237.40\n",
              "15  2017-06-01  2248.39\n",
              "23  2017-06-01  2248.35\n",
              "33  2017-06-01  2250.00\n",
              "43  2017-06-01  2253.78\n",
              "53  2017-06-01  2257.39\n",
              "63  2017-06-01  2255.70\n",
              "73  2017-06-01  2258.00\n",
              "83  2017-06-01  2255.33\n",
              "93  2017-06-01  2257.74"
            ]
          },
          "metadata": {
            "tags": []
          },
          "execution_count": 40
        }
      ]
    },
    {
      "cell_type": "code",
      "metadata": {
        "id": "8EL4dQEnrY4Y",
        "outputId": "bfafa4d7-eba0-45eb-de6c-9d36c4fd7bf6",
        "colab": {
          "base_uri": "https://localhost:8080/",
          "height": 235
        }
      },
      "source": [
        "data1 = pd.DataFrame({'date': data['date_id'].unique(), 'high': data['last'].groupby(data['date_id']).max(), 'low': data['last'].groupby(data['date_id']).min()})\n",
        "data1.head(5)"
      ],
      "execution_count": 41,
      "outputs": [
        {
          "output_type": "execute_result",
          "data": {
            "text/html": [
              "<div>\n",
              "<style scoped>\n",
              "    .dataframe tbody tr th:only-of-type {\n",
              "        vertical-align: middle;\n",
              "    }\n",
              "\n",
              "    .dataframe tbody tr th {\n",
              "        vertical-align: top;\n",
              "    }\n",
              "\n",
              "    .dataframe thead th {\n",
              "        text-align: right;\n",
              "    }\n",
              "</style>\n",
              "<table border=\"1\" class=\"dataframe\">\n",
              "  <thead>\n",
              "    <tr style=\"text-align: right;\">\n",
              "      <th></th>\n",
              "      <th>date</th>\n",
              "      <th>high</th>\n",
              "      <th>low</th>\n",
              "    </tr>\n",
              "    <tr>\n",
              "      <th>date_id</th>\n",
              "      <th></th>\n",
              "      <th></th>\n",
              "      <th></th>\n",
              "    </tr>\n",
              "  </thead>\n",
              "  <tbody>\n",
              "    <tr>\n",
              "      <th>2017-05-31</th>\n",
              "      <td>2017-05-31</td>\n",
              "      <td>2237.40</td>\n",
              "      <td>2237.40</td>\n",
              "    </tr>\n",
              "    <tr>\n",
              "      <th>2017-06-01</th>\n",
              "      <td>2017-06-01</td>\n",
              "      <td>2455.39</td>\n",
              "      <td>2248.35</td>\n",
              "    </tr>\n",
              "    <tr>\n",
              "      <th>2017-06-02</th>\n",
              "      <td>2017-06-02</td>\n",
              "      <td>2449.54</td>\n",
              "      <td>2321.08</td>\n",
              "    </tr>\n",
              "    <tr>\n",
              "      <th>2017-06-03</th>\n",
              "      <td>2017-06-03</td>\n",
              "      <td>2541.50</td>\n",
              "      <td>2401.55</td>\n",
              "    </tr>\n",
              "    <tr>\n",
              "      <th>2017-06-04</th>\n",
              "      <td>2017-06-04</td>\n",
              "      <td>2583.31</td>\n",
              "      <td>2480.07</td>\n",
              "    </tr>\n",
              "  </tbody>\n",
              "</table>\n",
              "</div>"
            ],
            "text/plain": [
              "                  date     high      low\n",
              "date_id                                 \n",
              "2017-05-31  2017-05-31  2237.40  2237.40\n",
              "2017-06-01  2017-06-01  2455.39  2248.35\n",
              "2017-06-02  2017-06-02  2449.54  2321.08\n",
              "2017-06-03  2017-06-03  2541.50  2401.55\n",
              "2017-06-04  2017-06-04  2583.31  2480.07"
            ]
          },
          "metadata": {
            "tags": []
          },
          "execution_count": 41
        }
      ]
    },
    {
      "cell_type": "code",
      "metadata": {
        "id": "jasBzQj6BzLC"
      },
      "source": [
        "data1['change']=100*(data1['high']-data1['low'])/data1['low']"
      ],
      "execution_count": 42,
      "outputs": []
    },
    {
      "cell_type": "code",
      "metadata": {
        "id": "Sn_hySj3CFl_",
        "outputId": "aa765166-7732-43b4-e84b-985fb1482327",
        "colab": {
          "base_uri": "https://localhost:8080/",
          "height": 235
        }
      },
      "source": [
        "data1.head()"
      ],
      "execution_count": 43,
      "outputs": [
        {
          "output_type": "execute_result",
          "data": {
            "text/html": [
              "<div>\n",
              "<style scoped>\n",
              "    .dataframe tbody tr th:only-of-type {\n",
              "        vertical-align: middle;\n",
              "    }\n",
              "\n",
              "    .dataframe tbody tr th {\n",
              "        vertical-align: top;\n",
              "    }\n",
              "\n",
              "    .dataframe thead th {\n",
              "        text-align: right;\n",
              "    }\n",
              "</style>\n",
              "<table border=\"1\" class=\"dataframe\">\n",
              "  <thead>\n",
              "    <tr style=\"text-align: right;\">\n",
              "      <th></th>\n",
              "      <th>date</th>\n",
              "      <th>high</th>\n",
              "      <th>low</th>\n",
              "      <th>change</th>\n",
              "    </tr>\n",
              "    <tr>\n",
              "      <th>date_id</th>\n",
              "      <th></th>\n",
              "      <th></th>\n",
              "      <th></th>\n",
              "      <th></th>\n",
              "    </tr>\n",
              "  </thead>\n",
              "  <tbody>\n",
              "    <tr>\n",
              "      <th>2017-05-31</th>\n",
              "      <td>2017-05-31</td>\n",
              "      <td>2237.40</td>\n",
              "      <td>2237.40</td>\n",
              "      <td>0.000000</td>\n",
              "    </tr>\n",
              "    <tr>\n",
              "      <th>2017-06-01</th>\n",
              "      <td>2017-06-01</td>\n",
              "      <td>2455.39</td>\n",
              "      <td>2248.35</td>\n",
              "      <td>9.208531</td>\n",
              "    </tr>\n",
              "    <tr>\n",
              "      <th>2017-06-02</th>\n",
              "      <td>2017-06-02</td>\n",
              "      <td>2449.54</td>\n",
              "      <td>2321.08</td>\n",
              "      <td>5.534493</td>\n",
              "    </tr>\n",
              "    <tr>\n",
              "      <th>2017-06-03</th>\n",
              "      <td>2017-06-03</td>\n",
              "      <td>2541.50</td>\n",
              "      <td>2401.55</td>\n",
              "      <td>5.827486</td>\n",
              "    </tr>\n",
              "    <tr>\n",
              "      <th>2017-06-04</th>\n",
              "      <td>2017-06-04</td>\n",
              "      <td>2583.31</td>\n",
              "      <td>2480.07</td>\n",
              "      <td>4.162786</td>\n",
              "    </tr>\n",
              "  </tbody>\n",
              "</table>\n",
              "</div>"
            ],
            "text/plain": [
              "                  date     high      low    change\n",
              "date_id                                           \n",
              "2017-05-31  2017-05-31  2237.40  2237.40  0.000000\n",
              "2017-06-01  2017-06-01  2455.39  2248.35  9.208531\n",
              "2017-06-02  2017-06-02  2449.54  2321.08  5.534493\n",
              "2017-06-03  2017-06-03  2541.50  2401.55  5.827486\n",
              "2017-06-04  2017-06-04  2583.31  2480.07  4.162786"
            ]
          },
          "metadata": {
            "tags": []
          },
          "execution_count": 43
        }
      ]
    },
    {
      "cell_type": "code",
      "metadata": {
        "id": "KROru0BjsCGk",
        "outputId": "97c49af0-4352-45ee-ccbd-30148a60fc00",
        "colab": {
          "base_uri": "https://localhost:8080/",
          "height": 265
        }
      },
      "source": [
        "plt.plot(data1[\"date\"], data1[\"change\"])\n",
        "plt.show()"
      ],
      "execution_count": 44,
      "outputs": [
        {
          "output_type": "display_data",
          "data": {
            "image/png": "[encoded data removed]",
            "text/plain": [
              "<Figure size 432x288 with 1 Axes>"
            ]
          },
          "metadata": {
            "tags": [],
            "needs_background": "light"
          }
        }
      ]
    },
    {
      "cell_type": "code",
      "metadata": {
        "id": "8bnJfmvUsBrx"
      },
      "source": [
        "top_change=data1.nlargest(5, ['change'])"
      ],
      "execution_count": 45,
      "outputs": []
    },
    {
      "cell_type": "code",
      "metadata": {
        "id": "xqKi-ck3C1ja",
        "outputId": "dc4aa495-0b6a-4f22-b2ef-b6d93ceb6161",
        "colab": {
          "base_uri": "https://localhost:8080/",
          "height": 235
        }
      },
      "source": [
        "top_change"
      ],
      "execution_count": 46,
      "outputs": [
        {
          "output_type": "execute_result",
          "data": {
            "text/html": [
              "<div>\n",
              "<style scoped>\n",
              "    .dataframe tbody tr th:only-of-type {\n",
              "        vertical-align: middle;\n",
              "    }\n",
              "\n",
              "    .dataframe tbody tr th {\n",
              "        vertical-align: top;\n",
              "    }\n",
              "\n",
              "    .dataframe thead th {\n",
              "        text-align: right;\n",
              "    }\n",
              "</style>\n",
              "<table border=\"1\" class=\"dataframe\">\n",
              "  <thead>\n",
              "    <tr style=\"text-align: right;\">\n",
              "      <th></th>\n",
              "      <th>date</th>\n",
              "      <th>high</th>\n",
              "      <th>low</th>\n",
              "      <th>change</th>\n",
              "    </tr>\n",
              "    <tr>\n",
              "      <th>date_id</th>\n",
              "      <th></th>\n",
              "      <th></th>\n",
              "      <th></th>\n",
              "      <th></th>\n",
              "    </tr>\n",
              "  </thead>\n",
              "  <tbody>\n",
              "    <tr>\n",
              "      <th>2017-06-06</th>\n",
              "      <td>2017-06-06</td>\n",
              "      <td>2932.00</td>\n",
              "      <td>2608.40</td>\n",
              "      <td>12.406073</td>\n",
              "    </tr>\n",
              "    <tr>\n",
              "      <th>2017-06-28</th>\n",
              "      <td>2017-06-28</td>\n",
              "      <td>2569.99</td>\n",
              "      <td>2291.00</td>\n",
              "      <td>12.177652</td>\n",
              "    </tr>\n",
              "    <tr>\n",
              "      <th>2017-06-13</th>\n",
              "      <td>2017-06-13</td>\n",
              "      <td>2783.00</td>\n",
              "      <td>2498.98</td>\n",
              "      <td>11.365437</td>\n",
              "    </tr>\n",
              "    <tr>\n",
              "      <th>2017-06-12</th>\n",
              "      <td>2017-06-12</td>\n",
              "      <td>2980.00</td>\n",
              "      <td>2703.11</td>\n",
              "      <td>10.243386</td>\n",
              "    </tr>\n",
              "    <tr>\n",
              "      <th>2017-06-01</th>\n",
              "      <td>2017-06-01</td>\n",
              "      <td>2455.39</td>\n",
              "      <td>2248.35</td>\n",
              "      <td>9.208531</td>\n",
              "    </tr>\n",
              "  </tbody>\n",
              "</table>\n",
              "</div>"
            ],
            "text/plain": [
              "                  date     high      low     change\n",
              "date_id                                            \n",
              "2017-06-06  2017-06-06  2932.00  2608.40  12.406073\n",
              "2017-06-28  2017-06-28  2569.99  2291.00  12.177652\n",
              "2017-06-13  2017-06-13  2783.00  2498.98  11.365437\n",
              "2017-06-12  2017-06-12  2980.00  2703.11  10.243386\n",
              "2017-06-01  2017-06-01  2455.39  2248.35   9.208531"
            ]
          },
          "metadata": {
            "tags": []
          },
          "execution_count": 46
        }
      ]
    },
    {
      "cell_type": "code",
      "metadata": {
        "id": "h5ukanZACwv_",
        "outputId": "8fe3970f-0775-44d4-8973-9e710a37bd07",
        "colab": {
          "base_uri": "https://localhost:8080/",
          "height": 295
        }
      },
      "source": [
        "tic_y=[0,2,4,6,8,10,12]\n",
        "label_y=['0%','2%','4%','6%','8%','10%','12%']\n",
        "plt.bar(top_change['date'],top_change['change'])\n",
        "plt.xlabel('Dates')\n",
        "plt.ylabel('Change(%)')\n",
        "plt.yticks(tic_y,label_y)\n",
        "plt.title('Most Volatile Days in terms of change in values for Bitstamp')\n",
        "plt.show()"
      ],
      "execution_count": 47,
      "outputs": [
        {
          "output_type": "display_data",
          "data": {
            "image/png": "[encoded data removed]",
            "text/plain": [
              "<Figure size 432x288 with 1 Axes>"
            ]
          },
          "metadata": {
            "tags": [],
            "needs_background": "light"
          }
        }
      ]
    },
    {
      "cell_type": "markdown",
      "metadata": {
        "id": "9cQHzGoZfIS9"
      },
      "source": [
        "(3) Similar Top 5 Volatile days for other markets"
      ]
    },
    {
      "cell_type": "code",
      "metadata": {
        "id": "EguGQaOOgEBk",
        "outputId": "1ea3e034-22f9-4e5c-f15d-2dd0c9a3dbcf",
        "colab": {
          "base_uri": "https://localhost:8080/",
          "height": 34
        }
      },
      "source": [
        "print(dataset['market'].unique())"
      ],
      "execution_count": 15,
      "outputs": [
        {
          "output_type": "stream",
          "text": [
            "['bitstamp' 'bitflyer' 'korbit' 'okcoin']\n"
          ],
          "name": "stdout"
        }
      ]
    },
    {
      "cell_type": "code",
      "metadata": {
        "id": "H0-qx_B_fZ33",
        "outputId": "67a103a5-d078-4701-9348-686067d8848f",
        "colab": {
          "base_uri": "https://localhost:8080/",
          "height": 359
        }
      },
      "source": [
        "data = dataset[dataset['market'] == \"bitflyer\"]\n",
        "data = data[data[\"rpt_key\"] == \"btc_jpy\"]\n",
        "data = data[[\"date_id\", \"last\"]]\n",
        "data.head(10)"
      ],
      "execution_count": 16,
      "outputs": [
        {
          "output_type": "execute_result",
          "data": {
            "text/html": [
              "<div>\n",
              "<style scoped>\n",
              "    .dataframe tbody tr th:only-of-type {\n",
              "        vertical-align: middle;\n",
              "    }\n",
              "\n",
              "    .dataframe tbody tr th {\n",
              "        vertical-align: top;\n",
              "    }\n",
              "\n",
              "    .dataframe thead th {\n",
              "        text-align: right;\n",
              "    }\n",
              "</style>\n",
              "<table border=\"1\" class=\"dataframe\">\n",
              "  <thead>\n",
              "    <tr style=\"text-align: right;\">\n",
              "      <th></th>\n",
              "      <th>date_id</th>\n",
              "      <th>last</th>\n",
              "    </tr>\n",
              "  </thead>\n",
              "  <tbody>\n",
              "    <tr>\n",
              "      <th>1</th>\n",
              "      <td>2017-05-31</td>\n",
              "      <td>267098.0</td>\n",
              "    </tr>\n",
              "    <tr>\n",
              "      <th>13</th>\n",
              "      <td>2017-06-01</td>\n",
              "      <td>268271.0</td>\n",
              "    </tr>\n",
              "    <tr>\n",
              "      <th>21</th>\n",
              "      <td>2017-06-01</td>\n",
              "      <td>268750.0</td>\n",
              "    </tr>\n",
              "    <tr>\n",
              "      <th>31</th>\n",
              "      <td>2017-06-01</td>\n",
              "      <td>268874.0</td>\n",
              "    </tr>\n",
              "    <tr>\n",
              "      <th>41</th>\n",
              "      <td>2017-06-01</td>\n",
              "      <td>268900.0</td>\n",
              "    </tr>\n",
              "    <tr>\n",
              "      <th>51</th>\n",
              "      <td>2017-06-01</td>\n",
              "      <td>268900.0</td>\n",
              "    </tr>\n",
              "    <tr>\n",
              "      <th>61</th>\n",
              "      <td>2017-06-01</td>\n",
              "      <td>268652.0</td>\n",
              "    </tr>\n",
              "    <tr>\n",
              "      <th>71</th>\n",
              "      <td>2017-06-01</td>\n",
              "      <td>268648.0</td>\n",
              "    </tr>\n",
              "    <tr>\n",
              "      <th>81</th>\n",
              "      <td>2017-06-01</td>\n",
              "      <td>268652.0</td>\n",
              "    </tr>\n",
              "    <tr>\n",
              "      <th>91</th>\n",
              "      <td>2017-06-01</td>\n",
              "      <td>268304.0</td>\n",
              "    </tr>\n",
              "  </tbody>\n",
              "</table>\n",
              "</div>"
            ],
            "text/plain": [
              "       date_id      last\n",
              "1   2017-05-31  267098.0\n",
              "13  2017-06-01  268271.0\n",
              "21  2017-06-01  268750.0\n",
              "31  2017-06-01  268874.0\n",
              "41  2017-06-01  268900.0\n",
              "51  2017-06-01  268900.0\n",
              "61  2017-06-01  268652.0\n",
              "71  2017-06-01  268648.0\n",
              "81  2017-06-01  268652.0\n",
              "91  2017-06-01  268304.0"
            ]
          },
          "metadata": {
            "tags": []
          },
          "execution_count": 16
        }
      ]
    },
    {
      "cell_type": "code",
      "metadata": {
        "id": "sU_yR_-6gisE",
        "outputId": "92b0b17c-0535-4ab9-cafa-72a45110d1db",
        "colab": {
          "base_uri": "https://localhost:8080/",
          "height": 235
        }
      },
      "source": [
        "data1 = pd.DataFrame({'date': data['date_id'].unique(), 'high': data['last'].groupby(data['date_id']).max(), 'low': data['last'].groupby(data['date_id']).min()})\n",
        "data1.head(5)"
      ],
      "execution_count": 17,
      "outputs": [
        {
          "output_type": "execute_result",
          "data": {
            "text/html": [
              "<div>\n",
              "<style scoped>\n",
              "    .dataframe tbody tr th:only-of-type {\n",
              "        vertical-align: middle;\n",
              "    }\n",
              "\n",
              "    .dataframe tbody tr th {\n",
              "        vertical-align: top;\n",
              "    }\n",
              "\n",
              "    .dataframe thead th {\n",
              "        text-align: right;\n",
              "    }\n",
              "</style>\n",
              "<table border=\"1\" class=\"dataframe\">\n",
              "  <thead>\n",
              "    <tr style=\"text-align: right;\">\n",
              "      <th></th>\n",
              "      <th>date</th>\n",
              "      <th>high</th>\n",
              "      <th>low</th>\n",
              "    </tr>\n",
              "    <tr>\n",
              "      <th>date_id</th>\n",
              "      <th></th>\n",
              "      <th></th>\n",
              "      <th></th>\n",
              "    </tr>\n",
              "  </thead>\n",
              "  <tbody>\n",
              "    <tr>\n",
              "      <th>2017-05-31</th>\n",
              "      <td>2017-05-31</td>\n",
              "      <td>267098.0</td>\n",
              "      <td>267098.0</td>\n",
              "    </tr>\n",
              "    <tr>\n",
              "      <th>2017-06-01</th>\n",
              "      <td>2017-06-01</td>\n",
              "      <td>278990.0</td>\n",
              "      <td>261490.0</td>\n",
              "    </tr>\n",
              "    <tr>\n",
              "      <th>2017-06-02</th>\n",
              "      <td>2017-06-02</td>\n",
              "      <td>278601.0</td>\n",
              "      <td>266830.0</td>\n",
              "    </tr>\n",
              "    <tr>\n",
              "      <th>2017-06-03</th>\n",
              "      <td>2017-06-03</td>\n",
              "      <td>281280.0</td>\n",
              "      <td>272800.0</td>\n",
              "    </tr>\n",
              "    <tr>\n",
              "      <th>2017-06-04</th>\n",
              "      <td>2017-06-04</td>\n",
              "      <td>291500.0</td>\n",
              "      <td>279702.0</td>\n",
              "    </tr>\n",
              "  </tbody>\n",
              "</table>\n",
              "</div>"
            ],
            "text/plain": [
              "                  date      high       low\n",
              "date_id                                   \n",
              "2017-05-31  2017-05-31  267098.0  267098.0\n",
              "2017-06-01  2017-06-01  278990.0  261490.0\n",
              "2017-06-02  2017-06-02  278601.0  266830.0\n",
              "2017-06-03  2017-06-03  281280.0  272800.0\n",
              "2017-06-04  2017-06-04  291500.0  279702.0"
            ]
          },
          "metadata": {
            "tags": []
          },
          "execution_count": 17
        }
      ]
    },
    {
      "cell_type": "code",
      "metadata": {
        "id": "psigroi80FMj"
      },
      "source": [
        "data1['change']=100*(data1['high']-data1['low'])/data1['low']"
      ],
      "execution_count": 18,
      "outputs": []
    },
    {
      "cell_type": "code",
      "metadata": {
        "id": "u3MHYUKN0Mlm",
        "outputId": "1770c6b9-a820-4854-d821-857f95278904",
        "colab": {
          "base_uri": "https://localhost:8080/",
          "height": 235
        }
      },
      "source": [
        "data1.head()"
      ],
      "execution_count": 19,
      "outputs": [
        {
          "output_type": "execute_result",
          "data": {
            "text/html": [
              "<div>\n",
              "<style scoped>\n",
              "    .dataframe tbody tr th:only-of-type {\n",
              "        vertical-align: middle;\n",
              "    }\n",
              "\n",
              "    .dataframe tbody tr th {\n",
              "        vertical-align: top;\n",
              "    }\n",
              "\n",
              "    .dataframe thead th {\n",
              "        text-align: right;\n",
              "    }\n",
              "</style>\n",
              "<table border=\"1\" class=\"dataframe\">\n",
              "  <thead>\n",
              "    <tr style=\"text-align: right;\">\n",
              "      <th></th>\n",
              "      <th>date</th>\n",
              "      <th>high</th>\n",
              "      <th>low</th>\n",
              "      <th>change</th>\n",
              "    </tr>\n",
              "    <tr>\n",
              "      <th>date_id</th>\n",
              "      <th></th>\n",
              "      <th></th>\n",
              "      <th></th>\n",
              "      <th></th>\n",
              "    </tr>\n",
              "  </thead>\n",
              "  <tbody>\n",
              "    <tr>\n",
              "      <th>2017-05-31</th>\n",
              "      <td>2017-05-31</td>\n",
              "      <td>267098.0</td>\n",
              "      <td>267098.0</td>\n",
              "      <td>0.000000</td>\n",
              "    </tr>\n",
              "    <tr>\n",
              "      <th>2017-06-01</th>\n",
              "      <td>2017-06-01</td>\n",
              "      <td>278990.0</td>\n",
              "      <td>261490.0</td>\n",
              "      <td>6.692417</td>\n",
              "    </tr>\n",
              "    <tr>\n",
              "      <th>2017-06-02</th>\n",
              "      <td>2017-06-02</td>\n",
              "      <td>278601.0</td>\n",
              "      <td>266830.0</td>\n",
              "      <td>4.411423</td>\n",
              "    </tr>\n",
              "    <tr>\n",
              "      <th>2017-06-03</th>\n",
              "      <td>2017-06-03</td>\n",
              "      <td>281280.0</td>\n",
              "      <td>272800.0</td>\n",
              "      <td>3.108504</td>\n",
              "    </tr>\n",
              "    <tr>\n",
              "      <th>2017-06-04</th>\n",
              "      <td>2017-06-04</td>\n",
              "      <td>291500.0</td>\n",
              "      <td>279702.0</td>\n",
              "      <td>4.218061</td>\n",
              "    </tr>\n",
              "  </tbody>\n",
              "</table>\n",
              "</div>"
            ],
            "text/plain": [
              "                  date      high       low    change\n",
              "date_id                                             \n",
              "2017-05-31  2017-05-31  267098.0  267098.0  0.000000\n",
              "2017-06-01  2017-06-01  278990.0  261490.0  6.692417\n",
              "2017-06-02  2017-06-02  278601.0  266830.0  4.411423\n",
              "2017-06-03  2017-06-03  281280.0  272800.0  3.108504\n",
              "2017-06-04  2017-06-04  291500.0  279702.0  4.218061"
            ]
          },
          "metadata": {
            "tags": []
          },
          "execution_count": 19
        }
      ]
    },
    {
      "cell_type": "code",
      "metadata": {
        "id": "CE8e8gUb0ToB"
      },
      "source": [
        "top_change=data1.nlargest(5, ['change'])"
      ],
      "execution_count": 20,
      "outputs": []
    },
    {
      "cell_type": "code",
      "metadata": {
        "id": "XCnj2YVK0ePz",
        "outputId": "d46f650f-d9ae-443a-8c79-793de3d1b434",
        "colab": {
          "base_uri": "https://localhost:8080/",
          "height": 235
        }
      },
      "source": [
        "top_change"
      ],
      "execution_count": 21,
      "outputs": [
        {
          "output_type": "execute_result",
          "data": {
            "text/html": [
              "<div>\n",
              "<style scoped>\n",
              "    .dataframe tbody tr th:only-of-type {\n",
              "        vertical-align: middle;\n",
              "    }\n",
              "\n",
              "    .dataframe tbody tr th {\n",
              "        vertical-align: top;\n",
              "    }\n",
              "\n",
              "    .dataframe thead th {\n",
              "        text-align: right;\n",
              "    }\n",
              "</style>\n",
              "<table border=\"1\" class=\"dataframe\">\n",
              "  <thead>\n",
              "    <tr style=\"text-align: right;\">\n",
              "      <th></th>\n",
              "      <th>date</th>\n",
              "      <th>high</th>\n",
              "      <th>low</th>\n",
              "      <th>change</th>\n",
              "    </tr>\n",
              "    <tr>\n",
              "      <th>date_id</th>\n",
              "      <th></th>\n",
              "      <th></th>\n",
              "      <th></th>\n",
              "      <th></th>\n",
              "    </tr>\n",
              "  </thead>\n",
              "  <tbody>\n",
              "    <tr>\n",
              "      <th>2017-06-27</th>\n",
              "      <td>2017-06-27</td>\n",
              "      <td>288886.0</td>\n",
              "      <td>262500.0</td>\n",
              "      <td>10.051810</td>\n",
              "    </tr>\n",
              "    <tr>\n",
              "      <th>2017-06-06</th>\n",
              "      <td>2017-06-06</td>\n",
              "      <td>322323.0</td>\n",
              "      <td>293500.0</td>\n",
              "      <td>9.820443</td>\n",
              "    </tr>\n",
              "    <tr>\n",
              "      <th>2017-06-12</th>\n",
              "      <td>2017-06-12</td>\n",
              "      <td>338001.0</td>\n",
              "      <td>309862.0</td>\n",
              "      <td>9.081139</td>\n",
              "    </tr>\n",
              "    <tr>\n",
              "      <th>2017-06-28</th>\n",
              "      <td>2017-06-28</td>\n",
              "      <td>287551.0</td>\n",
              "      <td>266000.0</td>\n",
              "      <td>8.101880</td>\n",
              "    </tr>\n",
              "    <tr>\n",
              "      <th>2017-06-13</th>\n",
              "      <td>2017-06-13</td>\n",
              "      <td>318600.0</td>\n",
              "      <td>295101.0</td>\n",
              "      <td>7.963036</td>\n",
              "    </tr>\n",
              "  </tbody>\n",
              "</table>\n",
              "</div>"
            ],
            "text/plain": [
              "                  date      high       low     change\n",
              "date_id                                              \n",
              "2017-06-27  2017-06-27  288886.0  262500.0  10.051810\n",
              "2017-06-06  2017-06-06  322323.0  293500.0   9.820443\n",
              "2017-06-12  2017-06-12  338001.0  309862.0   9.081139\n",
              "2017-06-28  2017-06-28  287551.0  266000.0   8.101880\n",
              "2017-06-13  2017-06-13  318600.0  295101.0   7.963036"
            ]
          },
          "metadata": {
            "tags": []
          },
          "execution_count": 21
        }
      ]
    },
    {
      "cell_type": "code",
      "metadata": {
        "id": "Vuakm57N0sfa",
        "outputId": "d5a23a8c-1c44-47ac-d288-f4d866dfb84a",
        "colab": {
          "base_uri": "https://localhost:8080/",
          "height": 295
        }
      },
      "source": [
        "tic_y=[0,2,4,6,8,10]\n",
        "label_y=['0%','2%','4%','6%','8%','10%']\n",
        "plt.bar(top_change['date'],top_change['change'])\n",
        "plt.yticks(ticks=tic_y,labels=label_y)\n",
        "plt.xlabel('Dates')\n",
        "plt.ylabel('Change(%)')\n",
        "plt.title('Most Volatile Days in terms of change in values for Bitflyer')\n",
        "plt.show()"
      ],
      "execution_count": 23,
      "outputs": [
        {
          "output_type": "display_data",
          "data": {
            "image/png": "[encoded data removed]",
            "text/plain": [
              "<Figure size 432x288 with 1 Axes>"
            ]
          },
          "metadata": {
            "tags": [],
            "needs_background": "light"
          }
        }
      ]
    },
    {
      "cell_type": "code",
      "metadata": {
        "id": "bwQp5jAW1Zgs",
        "outputId": "64c1d679-c9b7-4d16-aadd-425f6495d435",
        "colab": {
          "base_uri": "https://localhost:8080/",
          "height": 359
        }
      },
      "source": [
        "data = dataset[dataset['market'] == \"korbit\"]\n",
        "data = data[data[\"rpt_key\"] == \"btc_krw\"]\n",
        "data = data[[\"date_id\", \"last\"]]\n",
        "data.head(10)"
      ],
      "execution_count": 24,
      "outputs": [
        {
          "output_type": "execute_result",
          "data": {
            "text/html": [
              "<div>\n",
              "<style scoped>\n",
              "    .dataframe tbody tr th:only-of-type {\n",
              "        vertical-align: middle;\n",
              "    }\n",
              "\n",
              "    .dataframe tbody tr th {\n",
              "        vertical-align: top;\n",
              "    }\n",
              "\n",
              "    .dataframe thead th {\n",
              "        text-align: right;\n",
              "    }\n",
              "</style>\n",
              "<table border=\"1\" class=\"dataframe\">\n",
              "  <thead>\n",
              "    <tr style=\"text-align: right;\">\n",
              "      <th></th>\n",
              "      <th>date_id</th>\n",
              "      <th>last</th>\n",
              "    </tr>\n",
              "  </thead>\n",
              "  <tbody>\n",
              "    <tr>\n",
              "      <th>2</th>\n",
              "      <td>2017-05-31</td>\n",
              "      <td>3003500.0</td>\n",
              "    </tr>\n",
              "    <tr>\n",
              "      <th>14</th>\n",
              "      <td>2017-06-01</td>\n",
              "      <td>3003500.0</td>\n",
              "    </tr>\n",
              "    <tr>\n",
              "      <th>22</th>\n",
              "      <td>2017-06-01</td>\n",
              "      <td>3017000.0</td>\n",
              "    </tr>\n",
              "    <tr>\n",
              "      <th>32</th>\n",
              "      <td>2017-06-01</td>\n",
              "      <td>3019500.0</td>\n",
              "    </tr>\n",
              "    <tr>\n",
              "      <th>42</th>\n",
              "      <td>2017-06-01</td>\n",
              "      <td>3006000.0</td>\n",
              "    </tr>\n",
              "    <tr>\n",
              "      <th>52</th>\n",
              "      <td>2017-06-01</td>\n",
              "      <td>3007000.0</td>\n",
              "    </tr>\n",
              "    <tr>\n",
              "      <th>62</th>\n",
              "      <td>2017-06-01</td>\n",
              "      <td>3018500.0</td>\n",
              "    </tr>\n",
              "    <tr>\n",
              "      <th>72</th>\n",
              "      <td>2017-06-01</td>\n",
              "      <td>3020000.0</td>\n",
              "    </tr>\n",
              "    <tr>\n",
              "      <th>82</th>\n",
              "      <td>2017-06-01</td>\n",
              "      <td>3011500.0</td>\n",
              "    </tr>\n",
              "    <tr>\n",
              "      <th>92</th>\n",
              "      <td>2017-06-01</td>\n",
              "      <td>3012000.0</td>\n",
              "    </tr>\n",
              "  </tbody>\n",
              "</table>\n",
              "</div>"
            ],
            "text/plain": [
              "       date_id       last\n",
              "2   2017-05-31  3003500.0\n",
              "14  2017-06-01  3003500.0\n",
              "22  2017-06-01  3017000.0\n",
              "32  2017-06-01  3019500.0\n",
              "42  2017-06-01  3006000.0\n",
              "52  2017-06-01  3007000.0\n",
              "62  2017-06-01  3018500.0\n",
              "72  2017-06-01  3020000.0\n",
              "82  2017-06-01  3011500.0\n",
              "92  2017-06-01  3012000.0"
            ]
          },
          "metadata": {
            "tags": []
          },
          "execution_count": 24
        }
      ]
    },
    {
      "cell_type": "code",
      "metadata": {
        "id": "1I9AM0RI15SE",
        "outputId": "9f071734-f310-4fe3-a58d-5517131be41e",
        "colab": {
          "base_uri": "https://localhost:8080/",
          "height": 235
        }
      },
      "source": [
        "data1 = pd.DataFrame({'date': data['date_id'].unique(), 'high': data['last'].groupby(data['date_id']).max(), 'low': data['last'].groupby(data['date_id']).min()})\n",
        "data1.head(5)"
      ],
      "execution_count": 25,
      "outputs": [
        {
          "output_type": "execute_result",
          "data": {
            "text/html": [
              "<div>\n",
              "<style scoped>\n",
              "    .dataframe tbody tr th:only-of-type {\n",
              "        vertical-align: middle;\n",
              "    }\n",
              "\n",
              "    .dataframe tbody tr th {\n",
              "        vertical-align: top;\n",
              "    }\n",
              "\n",
              "    .dataframe thead th {\n",
              "        text-align: right;\n",
              "    }\n",
              "</style>\n",
              "<table border=\"1\" class=\"dataframe\">\n",
              "  <thead>\n",
              "    <tr style=\"text-align: right;\">\n",
              "      <th></th>\n",
              "      <th>date</th>\n",
              "      <th>high</th>\n",
              "      <th>low</th>\n",
              "    </tr>\n",
              "    <tr>\n",
              "      <th>date_id</th>\n",
              "      <th></th>\n",
              "      <th></th>\n",
              "      <th></th>\n",
              "    </tr>\n",
              "  </thead>\n",
              "  <tbody>\n",
              "    <tr>\n",
              "      <th>2017-05-31</th>\n",
              "      <td>2017-05-31</td>\n",
              "      <td>3003500.0</td>\n",
              "      <td>3003500.0</td>\n",
              "    </tr>\n",
              "    <tr>\n",
              "      <th>2017-06-01</th>\n",
              "      <td>2017-06-01</td>\n",
              "      <td>3210000.0</td>\n",
              "      <td>3003500.0</td>\n",
              "    </tr>\n",
              "    <tr>\n",
              "      <th>2017-06-02</th>\n",
              "      <td>2017-06-02</td>\n",
              "      <td>3153500.0</td>\n",
              "      <td>3055500.0</td>\n",
              "    </tr>\n",
              "    <tr>\n",
              "      <th>2017-06-03</th>\n",
              "      <td>2017-06-03</td>\n",
              "      <td>3200000.0</td>\n",
              "      <td>3007000.0</td>\n",
              "    </tr>\n",
              "    <tr>\n",
              "      <th>2017-06-04</th>\n",
              "      <td>2017-06-04</td>\n",
              "      <td>3153000.0</td>\n",
              "      <td>3060000.0</td>\n",
              "    </tr>\n",
              "  </tbody>\n",
              "</table>\n",
              "</div>"
            ],
            "text/plain": [
              "                  date       high        low\n",
              "date_id                                     \n",
              "2017-05-31  2017-05-31  3003500.0  3003500.0\n",
              "2017-06-01  2017-06-01  3210000.0  3003500.0\n",
              "2017-06-02  2017-06-02  3153500.0  3055500.0\n",
              "2017-06-03  2017-06-03  3200000.0  3007000.0\n",
              "2017-06-04  2017-06-04  3153000.0  3060000.0"
            ]
          },
          "metadata": {
            "tags": []
          },
          "execution_count": 25
        }
      ]
    },
    {
      "cell_type": "code",
      "metadata": {
        "id": "3wrGVnae2OU9"
      },
      "source": [
        "data1['change']=100*(data1['high']-data1['low'])/data1['low']"
      ],
      "execution_count": 26,
      "outputs": []
    },
    {
      "cell_type": "code",
      "metadata": {
        "id": "o19SmPKD2XZT",
        "outputId": "b9d20c0d-f0e4-421f-f9a6-faff87b41e03",
        "colab": {
          "base_uri": "https://localhost:8080/",
          "height": 235
        }
      },
      "source": [
        "data1.head(5)"
      ],
      "execution_count": 27,
      "outputs": [
        {
          "output_type": "execute_result",
          "data": {
            "text/html": [
              "<div>\n",
              "<style scoped>\n",
              "    .dataframe tbody tr th:only-of-type {\n",
              "        vertical-align: middle;\n",
              "    }\n",
              "\n",
              "    .dataframe tbody tr th {\n",
              "        vertical-align: top;\n",
              "    }\n",
              "\n",
              "    .dataframe thead th {\n",
              "        text-align: right;\n",
              "    }\n",
              "</style>\n",
              "<table border=\"1\" class=\"dataframe\">\n",
              "  <thead>\n",
              "    <tr style=\"text-align: right;\">\n",
              "      <th></th>\n",
              "      <th>date</th>\n",
              "      <th>high</th>\n",
              "      <th>low</th>\n",
              "      <th>change</th>\n",
              "    </tr>\n",
              "    <tr>\n",
              "      <th>date_id</th>\n",
              "      <th></th>\n",
              "      <th></th>\n",
              "      <th></th>\n",
              "      <th></th>\n",
              "    </tr>\n",
              "  </thead>\n",
              "  <tbody>\n",
              "    <tr>\n",
              "      <th>2017-05-31</th>\n",
              "      <td>2017-05-31</td>\n",
              "      <td>3003500.0</td>\n",
              "      <td>3003500.0</td>\n",
              "      <td>0.000000</td>\n",
              "    </tr>\n",
              "    <tr>\n",
              "      <th>2017-06-01</th>\n",
              "      <td>2017-06-01</td>\n",
              "      <td>3210000.0</td>\n",
              "      <td>3003500.0</td>\n",
              "      <td>6.875312</td>\n",
              "    </tr>\n",
              "    <tr>\n",
              "      <th>2017-06-02</th>\n",
              "      <td>2017-06-02</td>\n",
              "      <td>3153500.0</td>\n",
              "      <td>3055500.0</td>\n",
              "      <td>3.207331</td>\n",
              "    </tr>\n",
              "    <tr>\n",
              "      <th>2017-06-03</th>\n",
              "      <td>2017-06-03</td>\n",
              "      <td>3200000.0</td>\n",
              "      <td>3007000.0</td>\n",
              "      <td>6.418357</td>\n",
              "    </tr>\n",
              "    <tr>\n",
              "      <th>2017-06-04</th>\n",
              "      <td>2017-06-04</td>\n",
              "      <td>3153000.0</td>\n",
              "      <td>3060000.0</td>\n",
              "      <td>3.039216</td>\n",
              "    </tr>\n",
              "  </tbody>\n",
              "</table>\n",
              "</div>"
            ],
            "text/plain": [
              "                  date       high        low    change\n",
              "date_id                                               \n",
              "2017-05-31  2017-05-31  3003500.0  3003500.0  0.000000\n",
              "2017-06-01  2017-06-01  3210000.0  3003500.0  6.875312\n",
              "2017-06-02  2017-06-02  3153500.0  3055500.0  3.207331\n",
              "2017-06-03  2017-06-03  3200000.0  3007000.0  6.418357\n",
              "2017-06-04  2017-06-04  3153000.0  3060000.0  3.039216"
            ]
          },
          "metadata": {
            "tags": []
          },
          "execution_count": 27
        }
      ]
    },
    {
      "cell_type": "code",
      "metadata": {
        "id": "zbEtqCc02n49"
      },
      "source": [
        "top_change=data1.nlargest(5, ['change'])"
      ],
      "execution_count": 28,
      "outputs": []
    },
    {
      "cell_type": "code",
      "metadata": {
        "id": "dFPWQCvu2pe6",
        "outputId": "6c7c30cb-dbc8-4e50-9a98-47f92e1030ed",
        "colab": {
          "base_uri": "https://localhost:8080/",
          "height": 235
        }
      },
      "source": [
        "top_change"
      ],
      "execution_count": 29,
      "outputs": [
        {
          "output_type": "execute_result",
          "data": {
            "text/html": [
              "<div>\n",
              "<style scoped>\n",
              "    .dataframe tbody tr th:only-of-type {\n",
              "        vertical-align: middle;\n",
              "    }\n",
              "\n",
              "    .dataframe tbody tr th {\n",
              "        vertical-align: top;\n",
              "    }\n",
              "\n",
              "    .dataframe thead th {\n",
              "        text-align: right;\n",
              "    }\n",
              "</style>\n",
              "<table border=\"1\" class=\"dataframe\">\n",
              "  <thead>\n",
              "    <tr style=\"text-align: right;\">\n",
              "      <th></th>\n",
              "      <th>date</th>\n",
              "      <th>high</th>\n",
              "      <th>low</th>\n",
              "      <th>change</th>\n",
              "    </tr>\n",
              "    <tr>\n",
              "      <th>date_id</th>\n",
              "      <th></th>\n",
              "      <th></th>\n",
              "      <th></th>\n",
              "      <th></th>\n",
              "    </tr>\n",
              "  </thead>\n",
              "  <tbody>\n",
              "    <tr>\n",
              "      <th>2017-07-11</th>\n",
              "      <td>2017-07-11</td>\n",
              "      <td>3005500.0</td>\n",
              "      <td>2657000.0</td>\n",
              "      <td>13.116297</td>\n",
              "    </tr>\n",
              "    <tr>\n",
              "      <th>2017-06-06</th>\n",
              "      <td>2017-06-06</td>\n",
              "      <td>3470000.0</td>\n",
              "      <td>3095000.0</td>\n",
              "      <td>12.116317</td>\n",
              "    </tr>\n",
              "    <tr>\n",
              "      <th>2017-06-27</th>\n",
              "      <td>2017-06-27</td>\n",
              "      <td>3191000.0</td>\n",
              "      <td>2900000.0</td>\n",
              "      <td>10.034483</td>\n",
              "    </tr>\n",
              "    <tr>\n",
              "      <th>2017-06-28</th>\n",
              "      <td>2017-06-28</td>\n",
              "      <td>3199500.0</td>\n",
              "      <td>2941000.0</td>\n",
              "      <td>8.789527</td>\n",
              "    </tr>\n",
              "    <tr>\n",
              "      <th>2017-07-14</th>\n",
              "      <td>2017-07-14</td>\n",
              "      <td>2850000.0</td>\n",
              "      <td>2641000.0</td>\n",
              "      <td>7.913669</td>\n",
              "    </tr>\n",
              "  </tbody>\n",
              "</table>\n",
              "</div>"
            ],
            "text/plain": [
              "                  date       high        low     change\n",
              "date_id                                                \n",
              "2017-07-11  2017-07-11  3005500.0  2657000.0  13.116297\n",
              "2017-06-06  2017-06-06  3470000.0  3095000.0  12.116317\n",
              "2017-06-27  2017-06-27  3191000.0  2900000.0  10.034483\n",
              "2017-06-28  2017-06-28  3199500.0  2941000.0   8.789527\n",
              "2017-07-14  2017-07-14  2850000.0  2641000.0   7.913669"
            ]
          },
          "metadata": {
            "tags": []
          },
          "execution_count": 29
        }
      ]
    },
    {
      "cell_type": "code",
      "metadata": {
        "id": "8PpE_OVS25yL",
        "outputId": "75392882-040c-480f-feb8-a23c07ed261f",
        "colab": {
          "base_uri": "https://localhost:8080/",
          "height": 295
        }
      },
      "source": [
        "tic_y=[0,2,4,6,8,10,12]\n",
        "label_y=['0%','2%','4%','6%','8%','10%','12%']\n",
        "plt.bar(top_change['date'],top_change['change'])\n",
        "plt.yticks(ticks=tic_y,labels=label_y)\n",
        "plt.xlabel('Dates')\n",
        "plt.ylabel('Change(%)')\n",
        "plt.title('Most Volatile Days in terms of change in values for Korbit')\n",
        "plt.show()"
      ],
      "execution_count": 31,
      "outputs": [
        {
          "output_type": "display_data",
          "data": {
            "image/png": "[encoded data removed]",
            "text/plain": [
              "<Figure size 432x288 with 1 Axes>"
            ]
          },
          "metadata": {
            "tags": [],
            "needs_background": "light"
          }
        }
      ]
    },
    {
      "cell_type": "code",
      "metadata": {
        "id": "FsmiLOXV3rGc",
        "outputId": "fe5284ba-650a-42db-98cd-f49521de6d6e",
        "colab": {
          "base_uri": "https://localhost:8080/",
          "height": 359
        }
      },
      "source": [
        "data = dataset[dataset['market'] == \"okcoin\"]\n",
        "data = data[data[\"rpt_key\"] == \"btc_usd\"]\n",
        "data = data[[\"date_id\", \"last\"]]\n",
        "data.head(10)"
      ],
      "execution_count": 48,
      "outputs": [
        {
          "output_type": "execute_result",
          "data": {
            "text/html": [
              "<div>\n",
              "<style scoped>\n",
              "    .dataframe tbody tr th:only-of-type {\n",
              "        vertical-align: middle;\n",
              "    }\n",
              "\n",
              "    .dataframe tbody tr th {\n",
              "        vertical-align: top;\n",
              "    }\n",
              "\n",
              "    .dataframe thead th {\n",
              "        text-align: right;\n",
              "    }\n",
              "</style>\n",
              "<table border=\"1\" class=\"dataframe\">\n",
              "  <thead>\n",
              "    <tr style=\"text-align: right;\">\n",
              "      <th></th>\n",
              "      <th>date_id</th>\n",
              "      <th>last</th>\n",
              "    </tr>\n",
              "  </thead>\n",
              "  <tbody>\n",
              "    <tr>\n",
              "      <th>4</th>\n",
              "      <td>2017-05-31</td>\n",
              "      <td>2318.82</td>\n",
              "    </tr>\n",
              "    <tr>\n",
              "      <th>16</th>\n",
              "      <td>2017-06-01</td>\n",
              "      <td>2320.42</td>\n",
              "    </tr>\n",
              "    <tr>\n",
              "      <th>24</th>\n",
              "      <td>2017-06-01</td>\n",
              "      <td>2323.50</td>\n",
              "    </tr>\n",
              "    <tr>\n",
              "      <th>34</th>\n",
              "      <td>2017-06-01</td>\n",
              "      <td>2364.40</td>\n",
              "    </tr>\n",
              "    <tr>\n",
              "      <th>44</th>\n",
              "      <td>2017-06-01</td>\n",
              "      <td>2369.56</td>\n",
              "    </tr>\n",
              "    <tr>\n",
              "      <th>54</th>\n",
              "      <td>2017-06-01</td>\n",
              "      <td>2374.77</td>\n",
              "    </tr>\n",
              "    <tr>\n",
              "      <th>64</th>\n",
              "      <td>2017-06-01</td>\n",
              "      <td>2370.39</td>\n",
              "    </tr>\n",
              "    <tr>\n",
              "      <th>74</th>\n",
              "      <td>2017-06-01</td>\n",
              "      <td>2354.98</td>\n",
              "    </tr>\n",
              "    <tr>\n",
              "      <th>84</th>\n",
              "      <td>2017-06-01</td>\n",
              "      <td>2350.00</td>\n",
              "    </tr>\n",
              "    <tr>\n",
              "      <th>94</th>\n",
              "      <td>2017-06-01</td>\n",
              "      <td>2350.32</td>\n",
              "    </tr>\n",
              "  </tbody>\n",
              "</table>\n",
              "</div>"
            ],
            "text/plain": [
              "       date_id     last\n",
              "4   2017-05-31  2318.82\n",
              "16  2017-06-01  2320.42\n",
              "24  2017-06-01  2323.50\n",
              "34  2017-06-01  2364.40\n",
              "44  2017-06-01  2369.56\n",
              "54  2017-06-01  2374.77\n",
              "64  2017-06-01  2370.39\n",
              "74  2017-06-01  2354.98\n",
              "84  2017-06-01  2350.00\n",
              "94  2017-06-01  2350.32"
            ]
          },
          "metadata": {
            "tags": []
          },
          "execution_count": 48
        }
      ]
    },
    {
      "cell_type": "code",
      "metadata": {
        "id": "K1JAuPRL3jAX",
        "outputId": "fa5f8100-bc78-4577-8357-f50bedc9e16e",
        "colab": {
          "base_uri": "https://localhost:8080/",
          "height": 235
        }
      },
      "source": [
        "data1 = pd.DataFrame({'date': data['date_id'].unique(), 'high': data['last'].groupby(data['date_id']).max(), 'low': data['last'].groupby(data['date_id']).min()})\n",
        "data1.head(5)"
      ],
      "execution_count": 49,
      "outputs": [
        {
          "output_type": "execute_result",
          "data": {
            "text/html": [
              "<div>\n",
              "<style scoped>\n",
              "    .dataframe tbody tr th:only-of-type {\n",
              "        vertical-align: middle;\n",
              "    }\n",
              "\n",
              "    .dataframe tbody tr th {\n",
              "        vertical-align: top;\n",
              "    }\n",
              "\n",
              "    .dataframe thead th {\n",
              "        text-align: right;\n",
              "    }\n",
              "</style>\n",
              "<table border=\"1\" class=\"dataframe\">\n",
              "  <thead>\n",
              "    <tr style=\"text-align: right;\">\n",
              "      <th></th>\n",
              "      <th>date</th>\n",
              "      <th>high</th>\n",
              "      <th>low</th>\n",
              "    </tr>\n",
              "    <tr>\n",
              "      <th>date_id</th>\n",
              "      <th></th>\n",
              "      <th></th>\n",
              "      <th></th>\n",
              "    </tr>\n",
              "  </thead>\n",
              "  <tbody>\n",
              "    <tr>\n",
              "      <th>2017-05-31</th>\n",
              "      <td>2017-05-31</td>\n",
              "      <td>2318.82</td>\n",
              "      <td>2318.82</td>\n",
              "    </tr>\n",
              "    <tr>\n",
              "      <th>2017-06-01</th>\n",
              "      <td>2017-06-01</td>\n",
              "      <td>2561.67</td>\n",
              "      <td>2320.42</td>\n",
              "    </tr>\n",
              "    <tr>\n",
              "      <th>2017-06-02</th>\n",
              "      <td>2017-06-02</td>\n",
              "      <td>2597.00</td>\n",
              "      <td>2465.03</td>\n",
              "    </tr>\n",
              "    <tr>\n",
              "      <th>2017-06-03</th>\n",
              "      <td>2017-06-03</td>\n",
              "      <td>2632.76</td>\n",
              "      <td>2425.38</td>\n",
              "    </tr>\n",
              "    <tr>\n",
              "      <th>2017-06-04</th>\n",
              "      <td>2017-06-04</td>\n",
              "      <td>2630.00</td>\n",
              "      <td>2540.96</td>\n",
              "    </tr>\n",
              "  </tbody>\n",
              "</table>\n",
              "</div>"
            ],
            "text/plain": [
              "                  date     high      low\n",
              "date_id                                 \n",
              "2017-05-31  2017-05-31  2318.82  2318.82\n",
              "2017-06-01  2017-06-01  2561.67  2320.42\n",
              "2017-06-02  2017-06-02  2597.00  2465.03\n",
              "2017-06-03  2017-06-03  2632.76  2425.38\n",
              "2017-06-04  2017-06-04  2630.00  2540.96"
            ]
          },
          "metadata": {
            "tags": []
          },
          "execution_count": 49
        }
      ]
    },
    {
      "cell_type": "code",
      "metadata": {
        "id": "7s6Z_e5I39d0"
      },
      "source": [
        "data1['change']=100*(data1['high']-data1['low'])/data1['low']"
      ],
      "execution_count": 50,
      "outputs": []
    },
    {
      "cell_type": "code",
      "metadata": {
        "id": "LpAnLH254BiM",
        "outputId": "0247edd0-040f-4e1b-da63-26ad977d83b3",
        "colab": {
          "base_uri": "https://localhost:8080/",
          "height": 235
        }
      },
      "source": [
        "data1.head()"
      ],
      "execution_count": 51,
      "outputs": [
        {
          "output_type": "execute_result",
          "data": {
            "text/html": [
              "<div>\n",
              "<style scoped>\n",
              "    .dataframe tbody tr th:only-of-type {\n",
              "        vertical-align: middle;\n",
              "    }\n",
              "\n",
              "    .dataframe tbody tr th {\n",
              "        vertical-align: top;\n",
              "    }\n",
              "\n",
              "    .dataframe thead th {\n",
              "        text-align: right;\n",
              "    }\n",
              "</style>\n",
              "<table border=\"1\" class=\"dataframe\">\n",
              "  <thead>\n",
              "    <tr style=\"text-align: right;\">\n",
              "      <th></th>\n",
              "      <th>date</th>\n",
              "      <th>high</th>\n",
              "      <th>low</th>\n",
              "      <th>change</th>\n",
              "    </tr>\n",
              "    <tr>\n",
              "      <th>date_id</th>\n",
              "      <th></th>\n",
              "      <th></th>\n",
              "      <th></th>\n",
              "      <th></th>\n",
              "    </tr>\n",
              "  </thead>\n",
              "  <tbody>\n",
              "    <tr>\n",
              "      <th>2017-05-31</th>\n",
              "      <td>2017-05-31</td>\n",
              "      <td>2318.82</td>\n",
              "      <td>2318.82</td>\n",
              "      <td>0.000000</td>\n",
              "    </tr>\n",
              "    <tr>\n",
              "      <th>2017-06-01</th>\n",
              "      <td>2017-06-01</td>\n",
              "      <td>2561.67</td>\n",
              "      <td>2320.42</td>\n",
              "      <td>10.396825</td>\n",
              "    </tr>\n",
              "    <tr>\n",
              "      <th>2017-06-02</th>\n",
              "      <td>2017-06-02</td>\n",
              "      <td>2597.00</td>\n",
              "      <td>2465.03</td>\n",
              "      <td>5.353687</td>\n",
              "    </tr>\n",
              "    <tr>\n",
              "      <th>2017-06-03</th>\n",
              "      <td>2017-06-03</td>\n",
              "      <td>2632.76</td>\n",
              "      <td>2425.38</td>\n",
              "      <td>8.550413</td>\n",
              "    </tr>\n",
              "    <tr>\n",
              "      <th>2017-06-04</th>\n",
              "      <td>2017-06-04</td>\n",
              "      <td>2630.00</td>\n",
              "      <td>2540.96</td>\n",
              "      <td>3.504187</td>\n",
              "    </tr>\n",
              "  </tbody>\n",
              "</table>\n",
              "</div>"
            ],
            "text/plain": [
              "                  date     high      low     change\n",
              "date_id                                            \n",
              "2017-05-31  2017-05-31  2318.82  2318.82   0.000000\n",
              "2017-06-01  2017-06-01  2561.67  2320.42  10.396825\n",
              "2017-06-02  2017-06-02  2597.00  2465.03   5.353687\n",
              "2017-06-03  2017-06-03  2632.76  2425.38   8.550413\n",
              "2017-06-04  2017-06-04  2630.00  2540.96   3.504187"
            ]
          },
          "metadata": {
            "tags": []
          },
          "execution_count": 51
        }
      ]
    },
    {
      "cell_type": "code",
      "metadata": {
        "id": "kBjYaO9_4K9U"
      },
      "source": [
        "top_change=data1.nlargest(5, ['change'])"
      ],
      "execution_count": 52,
      "outputs": []
    },
    {
      "cell_type": "code",
      "metadata": {
        "id": "miAst4ZG4Nsg",
        "outputId": "4064607b-4426-48f8-99e7-28998d2f1719",
        "colab": {
          "base_uri": "https://localhost:8080/",
          "height": 235
        }
      },
      "source": [
        "top_change"
      ],
      "execution_count": 53,
      "outputs": [
        {
          "output_type": "execute_result",
          "data": {
            "text/html": [
              "<div>\n",
              "<style scoped>\n",
              "    .dataframe tbody tr th:only-of-type {\n",
              "        vertical-align: middle;\n",
              "    }\n",
              "\n",
              "    .dataframe tbody tr th {\n",
              "        vertical-align: top;\n",
              "    }\n",
              "\n",
              "    .dataframe thead th {\n",
              "        text-align: right;\n",
              "    }\n",
              "</style>\n",
              "<table border=\"1\" class=\"dataframe\">\n",
              "  <thead>\n",
              "    <tr style=\"text-align: right;\">\n",
              "      <th></th>\n",
              "      <th>date</th>\n",
              "      <th>high</th>\n",
              "      <th>low</th>\n",
              "      <th>change</th>\n",
              "    </tr>\n",
              "    <tr>\n",
              "      <th>date_id</th>\n",
              "      <th></th>\n",
              "      <th></th>\n",
              "      <th></th>\n",
              "      <th></th>\n",
              "    </tr>\n",
              "  </thead>\n",
              "  <tbody>\n",
              "    <tr>\n",
              "      <th>2017-06-12</th>\n",
              "      <td>2017-06-12</td>\n",
              "      <td>3182.59</td>\n",
              "      <td>2775.33</td>\n",
              "      <td>14.674291</td>\n",
              "    </tr>\n",
              "    <tr>\n",
              "      <th>2017-06-06</th>\n",
              "      <td>2017-06-06</td>\n",
              "      <td>3094.17</td>\n",
              "      <td>2713.44</td>\n",
              "      <td>14.031267</td>\n",
              "    </tr>\n",
              "    <tr>\n",
              "      <th>2017-06-08</th>\n",
              "      <td>2017-06-08</td>\n",
              "      <td>2909.92</td>\n",
              "      <td>2629.99</td>\n",
              "      <td>10.643767</td>\n",
              "    </tr>\n",
              "    <tr>\n",
              "      <th>2017-06-01</th>\n",
              "      <td>2017-06-01</td>\n",
              "      <td>2561.67</td>\n",
              "      <td>2320.42</td>\n",
              "      <td>10.396825</td>\n",
              "    </tr>\n",
              "    <tr>\n",
              "      <th>2017-06-27</th>\n",
              "      <td>2017-06-27</td>\n",
              "      <td>2699.99</td>\n",
              "      <td>2445.82</td>\n",
              "      <td>10.392016</td>\n",
              "    </tr>\n",
              "  </tbody>\n",
              "</table>\n",
              "</div>"
            ],
            "text/plain": [
              "                  date     high      low     change\n",
              "date_id                                            \n",
              "2017-06-12  2017-06-12  3182.59  2775.33  14.674291\n",
              "2017-06-06  2017-06-06  3094.17  2713.44  14.031267\n",
              "2017-06-08  2017-06-08  2909.92  2629.99  10.643767\n",
              "2017-06-01  2017-06-01  2561.67  2320.42  10.396825\n",
              "2017-06-27  2017-06-27  2699.99  2445.82  10.392016"
            ]
          },
          "metadata": {
            "tags": []
          },
          "execution_count": 53
        }
      ]
    },
    {
      "cell_type": "code",
      "metadata": {
        "id": "EQtkzrOw4WMN",
        "outputId": "8dd86eb7-059e-450a-880d-7eea0bee518b",
        "colab": {
          "base_uri": "https://localhost:8080/",
          "height": 295
        }
      },
      "source": [
        "tic_y=[0,2,4,6,8,10,12,14]\n",
        "label_y=['0%','2%','4%','6%','8%','10%','12%','14%']\n",
        "plt.bar(top_change['date'],top_change['change'])\n",
        "plt.yticks(ticks=tic_y,labels=label_y)\n",
        "plt.xlabel('Dates')\n",
        "plt.ylabel('Change(%)')\n",
        "plt.title('Most Volatile Days in terms of change in values for Okcoin')\n",
        "plt.show()"
      ],
      "execution_count": 54,
      "outputs": [
        {
          "output_type": "display_data",
          "data": {
            "image/png": "[encoded data removed]",
            "text/plain": [
              "<Figure size 432x288 with 1 Axes>"
            ]
          },
          "metadata": {
            "tags": [],
            "needs_background": "light"
          }
        }
      ]
    },
    {
      "cell_type": "markdown",
      "metadata": {
        "id": "myf6Atd8jBDo"
      },
      "source": [
        "List of markets"
      ]
    },
    {
      "cell_type": "code",
      "metadata": {
        "id": "J4a_14x6jDou",
        "outputId": "c054eddb-2e8d-4629-e1ce-9dced2d5644c",
        "colab": {
          "base_uri": "https://localhost:8080/"
        }
      },
      "source": [
        "dataset[dataset['market']=='bitflyer'].count()"
      ],
      "execution_count": null,
      "outputs": [
        {
          "output_type": "execute_result",
          "data": {
            "text/plain": [
              "date_id         188157\n",
              "datetime_id     188157\n",
              "market          188157\n",
              "rpt_key         188157\n",
              "last            188157\n",
              "diff_24h        188157\n",
              "diff_per_24h    188157\n",
              "bid             188157\n",
              "ask             188157\n",
              "low             188157\n",
              "high            188157\n",
              "volume          188157\n",
              "created_at      188157\n",
              "updated_at      188157\n",
              "dtype: int64"
            ]
          },
          "metadata": {
            "tags": []
          },
          "execution_count": 60
        }
      ]
    },
    {
      "cell_type": "code",
      "metadata": {
        "id": "65BSuWElkn_l",
        "outputId": "1475f280-0103-4f04-9010-4b43a334e92e",
        "colab": {
          "base_uri": "https://localhost:8080/"
        }
      },
      "source": [
        "dataset[dataset['market']=='bitstamp'].count()"
      ],
      "execution_count": null,
      "outputs": [
        {
          "output_type": "execute_result",
          "data": {
            "text/plain": [
              "date_id         125438\n",
              "datetime_id     125438\n",
              "market          125438\n",
              "rpt_key         125438\n",
              "last            125438\n",
              "diff_24h        125438\n",
              "diff_per_24h    125438\n",
              "bid             125438\n",
              "ask             125438\n",
              "low             125438\n",
              "high            125438\n",
              "volume          125438\n",
              "created_at      125438\n",
              "updated_at      125438\n",
              "dtype: int64"
            ]
          },
          "metadata": {
            "tags": []
          },
          "execution_count": 61
        }
      ]
    },
    {
      "cell_type": "code",
      "metadata": {
        "id": "TXAyI1x9k6vK",
        "outputId": "6fd22786-8139-4071-caec-76b412bab54b",
        "colab": {
          "base_uri": "https://localhost:8080/"
        }
      },
      "source": [
        "dataset[dataset['market']=='korbit'].count()"
      ],
      "execution_count": null,
      "outputs": [
        {
          "output_type": "execute_result",
          "data": {
            "text/plain": [
              "date_id         188157\n",
              "datetime_id     188157\n",
              "market          188157\n",
              "rpt_key         188157\n",
              "last            188157\n",
              "diff_24h        188157\n",
              "diff_per_24h    188157\n",
              "bid             188157\n",
              "ask             188157\n",
              "low             188157\n",
              "high            188157\n",
              "volume          188157\n",
              "created_at      188157\n",
              "updated_at      188157\n",
              "dtype: int64"
            ]
          },
          "metadata": {
            "tags": []
          },
          "execution_count": 63
        }
      ]
    },
    {
      "cell_type": "code",
      "metadata": {
        "id": "eOggYN6HlP3T",
        "outputId": "5636a686-4759-4105-b6be-f409a67ac8b3",
        "colab": {
          "base_uri": "https://localhost:8080/"
        }
      },
      "source": [
        "dataset[dataset['market']=='okcoin'].count()"
      ],
      "execution_count": null,
      "outputs": [
        {
          "output_type": "execute_result",
          "data": {
            "text/plain": [
              "date_id         125438\n",
              "datetime_id     125438\n",
              "market          125438\n",
              "rpt_key         125438\n",
              "last            125438\n",
              "diff_24h        125438\n",
              "diff_per_24h    125438\n",
              "bid             125438\n",
              "ask             125438\n",
              "low             125438\n",
              "high            125438\n",
              "volume          125438\n",
              "created_at      125438\n",
              "updated_at      125438\n",
              "dtype: int64"
            ]
          },
          "metadata": {
            "tags": []
          },
          "execution_count": 64
        }
      ]
    },
    {
      "cell_type": "code",
      "metadata": {
        "id": "v7XcZUDvlYlr",
        "outputId": "c199ac79-4186-401b-a06d-1a175fbce959",
        "colab": {
          "base_uri": "https://localhost:8080/",
          "height": 351
        }
      },
      "source": [
        "fig = plt.figure(figsize=(8,5))\n",
        "labels=['bitstamp - btc_usd','korbit - btc_krw','bitflyer - btc_jpy','okcoin - btc_usd']\n",
        "counts=[188157,188157,125438,125438]\n",
        "plt.bar(labels,counts)\n",
        "plt.xlabel('Markets - Currencies')\n",
        "plt.ylabel('Number of Transactions')\n",
        "plt.title('Markets and Number of Transactions')\n",
        "plt.show()"
      ],
      "execution_count": null,
      "outputs": [
        {
          "output_type": "display_data",
          "data": {
            "image/png": "[encoded data removed]",
            "text/plain": [
              "<Figure size 576x360 with 1 Axes>"
            ]
          },
          "metadata": {
            "tags": [],
            "needs_background": "light"
          }
        }
      ]
    }
  ]
}