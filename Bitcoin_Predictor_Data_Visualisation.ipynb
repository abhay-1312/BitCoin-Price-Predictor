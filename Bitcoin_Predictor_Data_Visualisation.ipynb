{
  "nbformat": 4,
  "nbformat_minor": 0,
  "metadata": {
    "colab": {
      "name": "Bitcoin_Predictor_Data_Visualisation.ipynb",
      "provenance": [],
      "authorship_tag": "ABX9TyNNjMl5mhK0anwtCokw7jRq",
      "include_colab_link": true
    },
    "kernelspec": {
      "name": "python3",
      "display_name": "Python 3"
    }
  },
  "cells": [
    {
      "cell_type": "markdown",
      "metadata": {
        "id": "view-in-github",
        "colab_type": "text"
      },
      "source": [
        "<a href=\"https://colab.research.google.com/github/dragon222001/BitCoin-Price-Predictor/blob/master/Bitcoin_Predictor_Data_Visualisation.ipynb\" target=\"_parent\"><img src=\"https://colab.research.google.com/assets/colab-badge.svg\" alt=\"Open In Colab\"/></a>"
      ]
    },
    {
      "cell_type": "markdown",
      "metadata": {
        "id": "TaqCh0Oey66Q"
      },
      "source": [
        "**Visualising the Data**\n",
        "\n"
      ]
    },
    {
      "cell_type": "markdown",
      "metadata": {
        "id": "GMj5BFEe0Gyu"
      },
      "source": [
        "Importing the required Libraries"
      ]
    },
    {
      "cell_type": "code",
      "metadata": {
        "id": "upcyJxSgzWoZ"
      },
      "source": [
        "#Importing the Libraries\n",
        "import pandas as pd\n",
        "import numpy as np\n",
        "import matplotlib.pyplot as plt\n",
        "import seaborn as sns"
      ],
      "execution_count": 19,
      "outputs": []
    },
    {
      "cell_type": "markdown",
      "metadata": {
        "id": "zdrFuSYf0KYz"
      },
      "source": [
        "Accessing the Dataset"
      ]
    },
    {
      "cell_type": "code",
      "metadata": {
        "id": "IK8N4u6U0OSb"
      },
      "source": [
        "dataset = pd.read_csv('https://firebasestorage.googleapis.com/v0/b/aarambh-aider.appspot.com/o/images%2Fbitcoin.csv?alt=media')"
      ],
      "execution_count": 20,
      "outputs": []
    },
    {
      "cell_type": "markdown",
      "metadata": {
        "id": "cRbgOsJz7CMw"
      },
      "source": [
        "Checking for null values"
      ]
    },
    {
      "cell_type": "code",
      "metadata": {
        "id": "9kakPJDs7FVD",
        "outputId": "4ba5e9d8-b087-4a36-bcf1-21beacd8e134",
        "colab": {
          "base_uri": "https://localhost:8080/",
          "height": 391
        }
      },
      "source": [
        "print(dataset.info())"
      ],
      "execution_count": 21,
      "outputs": [
        {
          "output_type": "stream",
          "text": [
            "<class 'pandas.core.frame.DataFrame'>\n",
            "RangeIndex: 627190 entries, 0 to 627189\n",
            "Data columns (total 14 columns):\n",
            " #   Column        Non-Null Count   Dtype  \n",
            "---  ------        --------------   -----  \n",
            " 0   date_id       627190 non-null  object \n",
            " 1   datetime_id   627190 non-null  object \n",
            " 2   market        627190 non-null  object \n",
            " 3   rpt_key       627190 non-null  object \n",
            " 4   last          627190 non-null  float64\n",
            " 5   diff_24h      627190 non-null  float64\n",
            " 6   diff_per_24h  627190 non-null  float64\n",
            " 7   bid           627190 non-null  float64\n",
            " 8   ask           627190 non-null  float64\n",
            " 9   low           627190 non-null  float64\n",
            " 10  high          627190 non-null  float64\n",
            " 11  volume        627190 non-null  float64\n",
            " 12  created_at    627190 non-null  object \n",
            " 13  updated_at    627190 non-null  object \n",
            "dtypes: float64(8), object(6)\n",
            "memory usage: 67.0+ MB\n",
            "None\n"
          ],
          "name": "stdout"
        }
      ]
    },
    {
      "cell_type": "code",
      "metadata": {
        "id": "3Afm9JfVPf2O"
      },
      "source": [
        "data_sorted = pd.DataFrame({'Dates':dataset['date_id'].unique(),'Average':dataset[dataset['rpt_key'].isin(['btc_usd'])]['high'].groupby(dataset['date_id']).mean()})"
      ],
      "execution_count": 57,
      "outputs": []
    },
    {
      "cell_type": "code",
      "metadata": {
        "id": "28GnJtWgZNFk",
        "outputId": "4edd27d0-0461-424e-a63b-b5b76b6bb5b6",
        "colab": {
          "base_uri": "https://localhost:8080/",
          "height": 170
        }
      },
      "source": [
        "data_sorted.info()"
      ],
      "execution_count": 67,
      "outputs": [
        {
          "output_type": "stream",
          "text": [
            "<class 'pandas.core.frame.DataFrame'>\n",
            "Index: 34 entries, 2017-05-31 to 2017-07-14\n",
            "Data columns (total 2 columns):\n",
            " #   Column   Non-Null Count  Dtype  \n",
            "---  ------   --------------  -----  \n",
            " 0   Dates    34 non-null     object \n",
            " 1   Average  34 non-null     float64\n",
            "dtypes: float64(1), object(1)\n",
            "memory usage: 2.0+ KB\n"
          ],
          "name": "stdout"
        }
      ]
    },
    {
      "cell_type": "markdown",
      "metadata": {
        "id": "TaSZfJOFzFOe"
      },
      "source": [
        "(1) Bitcoin High Prices variation along date and time"
      ]
    },
    {
      "cell_type": "markdown",
      "metadata": {
        "id": "661EBCvmoOZg"
      },
      "source": [
        "I calculated the position of the months and alloted them there."
      ]
    },
    {
      "cell_type": "code",
      "metadata": {
        "id": "aqmUvGiexrYV",
        "outputId": "3ed35d6f-af3b-4001-f015-eca9b9bc2344",
        "colab": {
          "base_uri": "https://localhost:8080/",
          "height": 295
        }
      },
      "source": [
        "tic_x = [10,21]\n",
        "tic_y = [2300,2400,2500,2600,2700,2800,2900,3000,3100]\n",
        "label_x=['June 2017','July 2017']\n",
        "label_y=['2.3k','2.4k','2.5k','2.6k','2.7k','2.8k','2.9k','3.0k','3.1k']\n",
        "plt.plot(data_sorted['Dates'],data_sorted['Average'])\n",
        "plt.xticks(ticks=tic_x, labels=label_x)\n",
        "plt.yticks(ticks=tic_y,labels=label_y)\n",
        "plt.xlabel('Months')\n",
        "plt.ylabel('Average High Value')\n",
        "plt.title('Bitcoin High Price Average v/s Dates')\n",
        "plt.show()"
      ],
      "execution_count": 68,
      "outputs": [
        {
          "output_type": "display_data",
          "data": {
            "image/png": "[encoded data removed]",
            "text/plain": [
              "<Figure size 432x288 with 1 Axes>"
            ]
          },
          "metadata": {
            "tags": [],
            "needs_background": "light"
          }
        }
      ]
    }
  ]
}